{
 "cells": [
  {
   "cell_type": "markdown",
   "id": "c37b36e1",
   "metadata": {},
   "source": [
    "# Numpy로 공부하는 고윳값 분해\n",
    "\n",
    "## @jhbale11\n",
    "\n",
    "#### git : [github/jhbale11](https://github.com/jhbale11?tab=repositories)\n",
    "\n",
    "#### velog : [환공지능](https://velog.io/@jhbale11)\n",
    "\n",
    "-----------------------------------------------------------------------------------------------\n",
    "\n",
    "고윳값 분해(Eigenvalue Decomposition)은 행렬 내부 구조를 살펴보거나 행렬을 이용한 연산을 더 효율적으로 할 때 유용하다. 이번에는 고윳값과 고유벡터, 고윳값 분해의 과정에 대해 구체적으로 살펴보겠다.\n",
    "\n",
    "## 고윳값과 고유벡터\n",
    "\n",
    "정방 행렬 $A$에 대해 다음 식을 만족하는 영벡터가 아닌 벡터 $v$, 실수 $\\lambda$를 찾을 수 있다고 가정하자.\n",
    "\n",
    "$\n",
    "\\begin{align}\n",
    "Av = \\lambda v\n",
    "\\end{align}\n",
    "$\n",
    "\n",
    "위 식을 만족하는 실수 $\\lambda$를 **고윳값(Eigenvalue)**, 벡터 $v$를 **고유벡터(Eigenvector)** 라고 한다. 고윳값과 고유벡터를 찾는 작업을 고유분해(Eigen-Decomposition) 또는 **고윳값 분해(Eigenvalue Decomposition)** 라고 한다.\n",
    "\n",
    "행렬 $A$의 고유벡터는 행렬 $A$를 곱해서 변환을 해도 방향이 바뀌지 않는 벡터로 고유값은 변환된 고유벡터와 원래 고유벡터의 크기 비율이다. 위의 식을 아래와 같이 쓸 수도 있다.\n",
    "\n",
    "$\n",
    "\\begin{align}\n",
    "Av - \\lambda v = (A - \\lambda I) v = 0 \n",
    "\\end{align}\n",
    "$\n",
    "\n",
    "행렬 $A$에 대해 고윳값 w1과 고유벡터 V1을 구하는 과정은 아래와 같다."
   ]
  },
  {
   "cell_type": "code",
   "execution_count": 1,
   "id": "a465c743",
   "metadata": {},
   "outputs": [],
   "source": [
    "import numpy as np\n",
    "\n",
    "import warnings\n",
    "warnings.filterwarnings(action='ignore')"
   ]
  },
  {
   "cell_type": "code",
   "execution_count": 2,
   "id": "0b4dc2a5",
   "metadata": {
    "scrolled": true
   },
   "outputs": [
    {
     "name": "stdout",
     "output_type": "stream",
     "text": [
      "[-0.99999998 -1.00000002]\n"
     ]
    }
   ],
   "source": [
    "A = np.array([[1, -2], [2, -3]])\n",
    "w1, V1 = np.linalg.eig(A)\n",
    "\n",
    "print(w1)"
   ]
  },
  {
   "cell_type": "code",
   "execution_count": 3,
   "id": "9536d662",
   "metadata": {},
   "outputs": [
    {
     "name": "stdout",
     "output_type": "stream",
     "text": [
      "[[0.70710678 0.70710678]\n",
      " [0.70710678 0.70710678]]\n"
     ]
    }
   ],
   "source": [
    "print(V1)"
   ]
  },
  {
   "cell_type": "code",
   "execution_count": 4,
   "id": "8c82ddba",
   "metadata": {
    "scrolled": true
   },
   "outputs": [
    {
     "data": {
      "text/plain": [
       "array([[-0.70710677, -0.70710679],\n",
       "       [-0.70710676, -0.7071068 ]])"
      ]
     },
     "execution_count": 4,
     "metadata": {},
     "output_type": "execute_result"
    }
   ],
   "source": [
    "np.dot(A, V1.T)"
   ]
  },
  {
   "cell_type": "code",
   "execution_count": 5,
   "id": "14c45b54",
   "metadata": {
    "scrolled": true
   },
   "outputs": [
    {
     "data": {
      "text/plain": [
       "array([[-0.70710677, -0.70710676],\n",
       "       [-0.70710676, -0.70710677]])"
      ]
     },
     "execution_count": 5,
     "metadata": {},
     "output_type": "execute_result"
    }
   ],
   "source": [
    "w1[0]*V1"
   ]
  },
  {
   "cell_type": "code",
   "execution_count": 6,
   "id": "186e9f8c",
   "metadata": {
    "scrolled": true
   },
   "outputs": [
    {
     "data": {
      "text/plain": [
       "array([[-0.7071068 , -0.70710679],\n",
       "       [-0.70710679, -0.7071068 ]])"
      ]
     },
     "execution_count": 6,
     "metadata": {},
     "output_type": "execute_result"
    }
   ],
   "source": [
    "w1[1]*V1"
   ]
  },
  {
   "cell_type": "markdown",
   "id": "dd8861d1",
   "metadata": {},
   "source": [
    "## 특성방정식\n",
    "\n",
    "위에서는 행렬과 그 행렬의 고윳값-고유벡터를 주고 이들이 정말 고윳값-고유벡터인지를 계산으로 증명했다. 그러면 행렬만 주어졌을 때 고윳값-고유벡터는 어떻게 구할 수 있을까?\n",
    "\n",
    "행렬 $A$의 고유값은 $A-\\lambda I$의 행렬식이 0이 되도록하는 **특성방정식(Characteristic Equation)** 의 해를 구하면 된다.\n",
    "\n",
    "$\n",
    "\\begin{align}\n",
    "\\det \\left( A - \\lambda I \\right) = 0\n",
    "\\end{align}\n",
    "$\n",
    "\n",
    "이 조건은 행렬 $A-\\lambda I$가 역행렬이 존재하지 않는다는 뜻이다. 만약 $A-\\lambda I$의 역행렬이 존재한다면 고윳값 조건을 만족하는 벡터가 항상 영벡터가 되기 때문이다.\n",
    "\n",
    "$\n",
    "\\begin{align}\n",
    "(A - \\lambda I)^{-1}(A - \\lambda I)v = 0 \\;\\; \\rightarrow \\;\\; v = 0\n",
    "\\end{align}\n",
    "$\n",
    "\n",
    "위의 코드 예제와 같이\n",
    "\n",
    "$\n",
    "\\begin{split}\n",
    "\\begin{align}\n",
    "A=\n",
    "\\begin{bmatrix}\n",
    "1 & -2 \\\\\n",
    "2 & -3\n",
    "\\end{bmatrix}\n",
    "\\end{align}\n",
    "\\end{split}\n",
    "$\n",
    "\n",
    "에 대해서는 특성 방정식을 아래와 같이 구할 수 있다.\n",
    "\n",
    "$\n",
    "\\begin{split} \n",
    "\\begin{align}\n",
    "\\begin{aligned}\n",
    "\\det \\left( A - \\lambda I \\right) \n",
    "&=\n",
    "\\det \n",
    "\\left(\n",
    "\\begin{bmatrix}\n",
    "1 & -2 \\\\\n",
    "2 & -3\n",
    "\\end{bmatrix}\n",
    "-\n",
    "\\begin{bmatrix}\n",
    "\\lambda & 0 \\\\\n",
    "0 & \\lambda\n",
    "\\end{bmatrix}\n",
    "\\right) \n",
    "\\\\\n",
    "&=\n",
    "\\det \n",
    "\\begin{bmatrix}\n",
    "1 - \\lambda & -2 \\\\\n",
    "2 & -3 -\\lambda\n",
    "\\end{bmatrix}\n",
    "\\\\\n",
    "&= (1 - \\lambda)(-3 -\\lambda) + 4 \\\\\n",
    "&= \\lambda^2 + 2\\lambda + 1 = 0\n",
    "\\end{aligned}\n",
    "\\end{align}\n",
    "\\end{split}\n",
    "$\n",
    "\n",
    "인수분해를 하여 이차방정식인 특성방정식을 풀면 고윳값은 -1 이다."
   ]
  },
  {
   "cell_type": "code",
   "execution_count": 7,
   "id": "e31cc901",
   "metadata": {},
   "outputs": [
    {
     "data": {
      "text/plain": [
       "array([[2, 3],\n",
       "       [2, 1]])"
      ]
     },
     "execution_count": 7,
     "metadata": {},
     "output_type": "execute_result"
    }
   ],
   "source": [
    "B = np.array([[2, 3], [2, 1]])\n",
    "B"
   ]
  },
  {
   "cell_type": "code",
   "execution_count": 8,
   "id": "b52dc5ba",
   "metadata": {},
   "outputs": [],
   "source": [
    "w2, v2 = np.linalg.eig(B)"
   ]
  },
  {
   "cell_type": "code",
   "execution_count": 9,
   "id": "431ec0b0",
   "metadata": {},
   "outputs": [
    {
     "data": {
      "text/plain": [
       "array([ 4., -1.])"
      ]
     },
     "execution_count": 9,
     "metadata": {},
     "output_type": "execute_result"
    }
   ],
   "source": [
    "w2"
   ]
  },
  {
   "cell_type": "code",
   "execution_count": 10,
   "id": "d7078e27",
   "metadata": {
    "scrolled": true
   },
   "outputs": [
    {
     "data": {
      "text/plain": [
       "array([[ 0.83205029, -0.70710678],\n",
       "       [ 0.5547002 ,  0.70710678]])"
      ]
     },
     "execution_count": 10,
     "metadata": {},
     "output_type": "execute_result"
    }
   ],
   "source": [
    "v2"
   ]
  },
  {
   "cell_type": "code",
   "execution_count": 11,
   "id": "63b15c7c",
   "metadata": {
    "scrolled": true
   },
   "outputs": [
    {
     "data": {
      "text/plain": [
       "4.0"
      ]
     },
     "execution_count": 11,
     "metadata": {},
     "output_type": "execute_result"
    }
   ],
   "source": [
    "np.linalg.det(B - w2[0]*np.eye(1))"
   ]
  },
  {
   "cell_type": "markdown",
   "id": "0963848e",
   "metadata": {},
   "source": [
    "## 고윳값과 대각합/행렬식\n",
    "\n",
    "어떤 행렬의 고윳값이 $\\lambda_1, \\lambda_2, \\lambda_3, ... , \\lambda_N$이라고 하면 모든 고윳값의 곱은 행렬식의 값과 같고 모든 고윳값의 합은 대각합(Trace)와 같다.\n",
    "\n",
    "$\n",
    "\\begin{align}\n",
    "\\det(A)=\\prod_{i=1}^N \\lambda_i\n",
    "\\tag{1}\n",
    "\\end{align}\n",
    "$\n",
    "\n",
    "$\n",
    "\\begin{align}\n",
    "\\text{tr}(A) =\\sum_{i=1}^N \\lambda_i\n",
    "\\tag{2}\n",
    "\\end{align}\n",
    "$\n",
    "\n",
    "위의 행렬 A에 대해서 대각합과 행렬식은 다음과 같다."
   ]
  },
  {
   "cell_type": "code",
   "execution_count": 12,
   "id": "7b226ddc",
   "metadata": {
    "scrolled": true
   },
   "outputs": [
    {
     "data": {
      "text/plain": [
       "array([[ 1, -2],\n",
       "       [ 2, -3]])"
      ]
     },
     "execution_count": 12,
     "metadata": {},
     "output_type": "execute_result"
    }
   ],
   "source": [
    "A"
   ]
  },
  {
   "cell_type": "markdown",
   "id": "62adcc16",
   "metadata": {},
   "source": [
    "A의 대각합은 1+(-3) = -2가 될 것이다."
   ]
  },
  {
   "cell_type": "code",
   "execution_count": 13,
   "id": "febe467d",
   "metadata": {
    "scrolled": true
   },
   "outputs": [
    {
     "data": {
      "text/plain": [
       "-2"
      ]
     },
     "execution_count": 13,
     "metadata": {},
     "output_type": "execute_result"
    }
   ],
   "source": [
    "np.trace(A)"
   ]
  },
  {
   "cell_type": "markdown",
   "id": "d0add649",
   "metadata": {},
   "source": [
    "A의 행렬식은 1*(-3) - 2*(-2) = 1이 될 것이다."
   ]
  },
  {
   "cell_type": "code",
   "execution_count": 14,
   "id": "9156629d",
   "metadata": {
    "scrolled": true
   },
   "outputs": [
    {
     "data": {
      "text/plain": [
       "1.0"
      ]
     },
     "execution_count": 14,
     "metadata": {},
     "output_type": "execute_result"
    }
   ],
   "source": [
    "np.linalg.det(A)"
   ]
  },
  {
   "cell_type": "code",
   "execution_count": 15,
   "id": "b554ee5c",
   "metadata": {},
   "outputs": [
    {
     "data": {
      "text/plain": [
       "array([-0.99999998, -1.00000002])"
      ]
     },
     "execution_count": 15,
     "metadata": {},
     "output_type": "execute_result"
    }
   ],
   "source": [
    "w1"
   ]
  },
  {
   "cell_type": "markdown",
   "id": "f3d5c54d",
   "metadata": {},
   "source": [
    "그런데 고윳값이 -1(중복된 고윳값)이므로"
   ]
  },
  {
   "cell_type": "code",
   "execution_count": 16,
   "id": "efc85dd6",
   "metadata": {
    "scrolled": true
   },
   "outputs": [
    {
     "data": {
      "text/plain": [
       "-2.0000000000000004"
      ]
     },
     "execution_count": 16,
     "metadata": {},
     "output_type": "execute_result"
    }
   ],
   "source": [
    "# 이는 trace(A)와 같을 것이다.\n",
    "np.sum(w1)"
   ]
  },
  {
   "cell_type": "code",
   "execution_count": 17,
   "id": "e24a4c01",
   "metadata": {
    "scrolled": true
   },
   "outputs": [
    {
     "data": {
      "text/plain": [
       "1.0"
      ]
     },
     "execution_count": 17,
     "metadata": {},
     "output_type": "execute_result"
    }
   ],
   "source": [
    "# 이는 det(A)와 같을 것이다.\n",
    "w1[0]*w1[1]"
   ]
  },
  {
   "cell_type": "markdown",
   "id": "4c7624b0",
   "metadata": {},
   "source": [
    "## 대각화(Diagonalization)\n",
    "\n",
    "$N$차원의 정방 행렬 $A$가 $N$개의 복소수 고윳값과 이에 대응하는 고유 벡터를 가진다는 성질을 이용하면 아래와 같이 행렬을 분해할 수 있다.\n",
    "\n",
    "행렬 $A$의 고윳값과 이에 대응하는 단위벡터인 고유벡터를 각각\n",
    "\\begin{align}\n",
    "\\lambda_1, \\lambda_2, \\cdots, \\lambda_N \\;\\;\\; v_1, v_2, \\cdots, v_N \n",
    "\\end{align}\n",
    "\n",
    "이라고 하자. 이 고윳값과 고유벡터를 묶어서 아래와 같이 고유벡터 행렬, 고윳값 행렬을 정의할 수 있다.\n",
    "\n",
    "고유벡터행렬 $V$는 고유벡터를 열벡터로 옆으로 쌓아서 만든 행렬이다.\n",
    "\n",
    "$\n",
    "\\begin{align}\n",
    "V = \\left[ v_1 \\cdots v_N \\right]\n",
    "\\end{align}\n",
    "$\n",
    "\n",
    "고윳값 행렬 $\\Lambda$ 는 고윳값을 대각성분으로 가지는 대각행렬이다.\n",
    "\n",
    "$\n",
    "\\begin{split}\n",
    "\\begin{align}\n",
    "\\Lambda =\n",
    "\\begin{bmatrix}\n",
    "\\lambda_{1} & 0 & \\cdots & 0 \\\\\n",
    "0 & \\lambda_{2} & \\cdots & 0 \\\\\n",
    "\\vdots & \\vdots & \\ddots & \\vdots \\\\\n",
    "0 & 0 & \\cdots & \\lambda_{N} \\\\\n",
    "\\end{bmatrix}\n",
    "\\end{align}\n",
    "\\end{split}\n",
    "$\n",
    "\n",
    "위와 같이 고유벡터행렬과 고윳값행렬을 정의하면 행렬과 고유벡터행렬의 곱은 고유벡터행렬과 고윳값행렬의 곱과 같다.\n",
    "\n",
    "$\n",
    "\\begin{split} \n",
    "\\begin{align}\n",
    "\\begin{aligned}\n",
    "AV \n",
    "&= A \\left[ v_1 \\cdots v_N \\right] \\\\\n",
    "&= \\left[ A v_1 \\cdots A v_N \\right] \\\\\n",
    "&= \\left[ \\lambda_1 v_1 \\cdots \\lambda_N v_N \\right] \\\\\n",
    "&= \\left[ v_1 \\cdots v_N \\right] \n",
    "\\begin{bmatrix}\n",
    "\\lambda_{1} & 0 & \\cdots & 0 \\\\\n",
    "0 & \\lambda_{2} & \\cdots & 0 \\\\\n",
    "\\vdots & \\vdots & \\ddots & \\vdots \\\\\n",
    "0 & 0 & \\cdots & \\lambda_{N} \\\\\n",
    "\\end{bmatrix}\n",
    "\\\\\n",
    "&= V\\Lambda\n",
    "\\end{aligned}\n",
    "\\end{align}\n",
    "\\end{split}\n",
    "$\n",
    "\n",
    "따라서 고유벡터 행렬 $V$의 역행렬이 존재한다면 행렬을 다음처럼 고유벡터행렬과 고윳값행렬의 곱으로 표현할 수 있다. 이를 행렬의 **대각화(Diagonalization)**라고 한다.\n",
    "\n",
    "$\n",
    "\\begin{align}\n",
    "A = V \\Lambda V^{-1} \n",
    "\\end{align}\n",
    "$"
   ]
  },
  {
   "cell_type": "code",
   "execution_count": 18,
   "id": "774f7d56",
   "metadata": {
    "scrolled": true
   },
   "outputs": [
    {
     "data": {
      "text/plain": [
       "array([[2, 3],\n",
       "       [2, 1]])"
      ]
     },
     "execution_count": 18,
     "metadata": {},
     "output_type": "execute_result"
    }
   ],
   "source": [
    "B"
   ]
  },
  {
   "cell_type": "code",
   "execution_count": 19,
   "id": "bfffb4e8",
   "metadata": {
    "scrolled": true
   },
   "outputs": [
    {
     "data": {
      "text/plain": [
       "array([[ 0.83205029, -0.70710678],\n",
       "       [ 0.5547002 ,  0.70710678]])"
      ]
     },
     "execution_count": 19,
     "metadata": {},
     "output_type": "execute_result"
    }
   ],
   "source": [
    "v2"
   ]
  },
  {
   "cell_type": "code",
   "execution_count": 20,
   "id": "68c5d8f9",
   "metadata": {},
   "outputs": [
    {
     "data": {
      "text/plain": [
       "array([[ 0.72111026,  0.72111026],\n",
       "       [-0.56568542,  0.84852814]])"
      ]
     },
     "execution_count": 20,
     "metadata": {},
     "output_type": "execute_result"
    }
   ],
   "source": [
    "v2_inv = np.linalg.inv(v2)\n",
    "v2_inv"
   ]
  },
  {
   "cell_type": "code",
   "execution_count": 21,
   "id": "452a3f0f",
   "metadata": {
    "scrolled": true
   },
   "outputs": [
    {
     "data": {
      "text/plain": [
       "array([[2., 3.],\n",
       "       [2., 1.]])"
      ]
     },
     "execution_count": 21,
     "metadata": {},
     "output_type": "execute_result"
    }
   ],
   "source": [
    "v2@np.diag(w2)@v2_inv\n",
    "\n",
    "# 이 값은 B와 같을 것이다."
   ]
  },
  {
   "cell_type": "markdown",
   "id": "2496a69a",
   "metadata": {},
   "source": [
    "## 대칭행렬의 고유분해\n",
    "\n",
    "대칭행렬에 대해서는 다음과 같은 정리가 성립한다.\n",
    "\n",
    "**\"행렬 A가 실수인 대칭행렬이면 고유값이 실수이고 고유벡터는 서로 직교(Orthogonal)하다.\"**\n",
    "\n",
    "만약 고유벡터들이 크기가 1이 되도록 정규화된 상태라면 고유벡터 행렬 $V$는 정규직교(Orthonormal) 행렬이므로 전치행렬이 역행렬이다.\n",
    "\n",
    "## 대칭행렬을 Rank-1 행렬의 합으로 분해\n",
    "\n",
    "$N$차원 대칭행렬 A는 다음과 같이 $N$개의 Rank-1 행렬 $A_i = v_i v_i^T$의 합으로 표시할 수 있다.\n",
    "\n",
    "$\n",
    "\\begin{split} \n",
    "\\begin{align}\n",
    "\\begin{aligned}\n",
    "A \n",
    "&= V\\Lambda V^T \\\\\n",
    "&= \n",
    "\\begin{bmatrix}\n",
    "v_1 & v_2 & \\cdots & v_N\n",
    "\\end{bmatrix}\n",
    "\\begin{bmatrix}\n",
    "\\lambda_{1} & 0 & \\cdots & 0 \\\\\n",
    "0 & \\lambda_{2} & \\cdots & 0 \\\\\n",
    "\\vdots & \\vdots & \\ddots & \\vdots \\\\\n",
    "0 & 0 & \\cdots & \\lambda_{N} \\\\\n",
    "\\end{bmatrix}\n",
    "\\begin{bmatrix}\n",
    "v_1^T \\\\ v_2^T \\\\ \\vdots \\\\ v_N^T\n",
    "\\end{bmatrix} \\\\\n",
    "&=\n",
    "\\begin{bmatrix}\n",
    "\\lambda_{1}v_1 & \\lambda_{2}v_2 & \\cdots & \\lambda_{N}v_N\n",
    "\\end{bmatrix}\n",
    "\\begin{bmatrix}\n",
    "v_1^T \\\\ v_2^T \\\\ \\vdots \\\\ v_N^T\n",
    "\\end{bmatrix} \\\\\n",
    "\\end{aligned}\n",
    "\\end{align}\n",
    "\\end{split}\n",
    "$\n",
    "\n",
    "따라서 $N$차원 대칭행렬 $A$는\n",
    "$\n",
    "\\begin{align}\n",
    "A = \\sum_{i=1}^{N} {\\lambda_i} v_i v_i^T  = \\sum_{i=1}^{N} {\\lambda_i} A_i = \\lambda_1 A_1 + \\cdots + \\lambda_N A_N \n",
    "\\end{align}\n",
    "$"
   ]
  },
  {
   "cell_type": "code",
   "execution_count": 22,
   "id": "bef6785a",
   "metadata": {},
   "outputs": [],
   "source": [
    "A = np.array([[60., 30., 20.],\n",
    "              [30., 20., 15.],\n",
    "              [20., 15., 12.]])\n",
    "\n",
    "w, V = np.linalg.eig(A)"
   ]
  },
  {
   "cell_type": "code",
   "execution_count": 23,
   "id": "6fa458f5",
   "metadata": {},
   "outputs": [],
   "source": [
    "w1, w2, w3 = w\n",
    "v1 = V[:, 0:1]\n",
    "v2 = V[:, 1:2]\n",
    "v3 = V[:, 2:3]\n",
    "A1 = v1 @ v1.T\n",
    "A2 = v2 @ v2.T\n",
    "A3 = v3 @ v3.T"
   ]
  },
  {
   "cell_type": "code",
   "execution_count": 24,
   "id": "d990856e",
   "metadata": {
    "scrolled": true
   },
   "outputs": [
    {
     "data": {
      "text/plain": [
       "array([84.49913563,  7.33962395,  0.16124042])"
      ]
     },
     "execution_count": 24,
     "metadata": {},
     "output_type": "execute_result"
    }
   ],
   "source": [
    "w"
   ]
  },
  {
   "cell_type": "code",
   "execution_count": 25,
   "id": "5ff2803d",
   "metadata": {},
   "outputs": [
    {
     "data": {
      "text/plain": [
       "array([[57.79768857, 32.13739648, 22.59357583],\n",
       "       [32.13739648, 17.8694387 , 12.56276371],\n",
       "       [22.59357583, 12.56276371,  8.83200836]])"
      ]
     },
     "execution_count": 25,
     "metadata": {},
     "output_type": "execute_result"
    }
   ],
   "source": [
    "w1 * A1"
   ]
  },
  {
   "cell_type": "code",
   "execution_count": 26,
   "id": "abf9288d",
   "metadata": {},
   "outputs": [
    {
     "data": {
      "text/plain": [
       "array([[ 2.19968372, -2.12270483, -2.60775134],\n",
       "       [-2.12270483,  2.04841985,  2.51649195],\n",
       "       [-2.60775134,  2.51649195,  3.09152039]])"
      ]
     },
     "execution_count": 26,
     "metadata": {},
     "output_type": "execute_result"
    }
   ],
   "source": [
    "w2 * A2"
   ]
  },
  {
   "cell_type": "code",
   "execution_count": 27,
   "id": "880d94c6",
   "metadata": {},
   "outputs": [
    {
     "data": {
      "text/plain": [
       "array([[ 0.00262772, -0.01469165,  0.01417551],\n",
       "       [-0.01469165,  0.08214145, -0.07925566],\n",
       "       [ 0.01417551, -0.07925566,  0.07647125]])"
      ]
     },
     "execution_count": 27,
     "metadata": {},
     "output_type": "execute_result"
    }
   ],
   "source": [
    "w3 * A3"
   ]
  },
  {
   "cell_type": "code",
   "execution_count": 28,
   "id": "d89ad54a",
   "metadata": {
    "scrolled": true
   },
   "outputs": [
    {
     "data": {
      "text/plain": [
       "array([[60., 30., 20.],\n",
       "       [30., 20., 15.],\n",
       "       [20., 15., 12.]])"
      ]
     },
     "execution_count": 28,
     "metadata": {},
     "output_type": "execute_result"
    }
   ],
   "source": [
    "w1 * A1 + w2 * A2 + w3 * A3\n",
    "# 이 값은 A와 같을 것이다!"
   ]
  },
  {
   "cell_type": "code",
   "execution_count": 29,
   "id": "fa0b3dbd",
   "metadata": {
    "scrolled": false
   },
   "outputs": [
    {
     "data": {
      "text/plain": [
       "array([[60., 30., 20.],\n",
       "       [30., 20., 15.],\n",
       "       [20., 15., 12.]])"
      ]
     },
     "execution_count": 29,
     "metadata": {},
     "output_type": "execute_result"
    }
   ],
   "source": [
    "A"
   ]
  },
  {
   "cell_type": "markdown",
   "id": "1b928406",
   "metadata": {},
   "source": [
    "이번 장에서는 머신러닝에서 사용하는 중요한 수학이론 중 하나인 고유값(Eigenvalue)과 고유벡터(Eigenvector)에 대해 알아보았다. \n",
    "\n",
    "이는 선형대수(Linear Algebra)에서 가장 중요한 이론 중 하나이며 많은 머신러닝 이론에서 사용되고 있다. 이후 이 개념을 이용한 데이터의 차원축소 방법인 **특이값 분해(Singular Value Decomposition)**와 **주성분 분석(Principle Component Analysis)**에 대해 앞으로 살펴보도록 하겠다."
   ]
  }
 ],
 "metadata": {
  "kernelspec": {
   "display_name": "Python 3 (ipykernel)",
   "language": "python",
   "name": "python3"
  },
  "language_info": {
   "codemirror_mode": {
    "name": "ipython",
    "version": 3
   },
   "file_extension": ".py",
   "mimetype": "text/x-python",
   "name": "python",
   "nbconvert_exporter": "python",
   "pygments_lexer": "ipython3",
   "version": "3.8.12"
  }
 },
 "nbformat": 4,
 "nbformat_minor": 5
}
