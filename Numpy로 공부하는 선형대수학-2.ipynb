{
 "cells": [
  {
   "cell_type": "markdown",
   "id": "266b6ad1",
   "metadata": {},
   "source": [
    "# Numpy로 공부하는 선형대수 - 2\n",
    "\n",
    "## @jhbale11\n",
    "\n",
    "#### git : [github/jhbale11](https://github.com/jhbale11?tab=repositories)\n",
    "\n",
    "#### velog : [환공지능](https://velog.io/@jhbale11)\n",
    "\n",
    "-----------------------------------------------------------------------------------------------\n",
    "\n",
    "데이터 분석을 시작하는데 꼭 필요한 선형 대수를 공부한다. 선형 대수는 데이터를 다루는 방법을 표시한 기호이자 언어로, 데이터를 다루는 법은 물론이고 연립 방정식을 사용하여 미지수의 값을 구하는 법 등에 사용되는 데이터 분석의 기본적인 도구이다. 따라서 Numpy로 선형대수학을 공부하고 익숙해지고자 한다.\n",
    "\n",
    "## 학습 목표\n",
    "- 각종 데이터를 선형 대수의 기호로 변환한다.\n",
    "- 선형 대수의 각종 연산을 이용하여 데이터를 조작한다.\n",
    "- 역행렬과 연립방정식의 해를 구하고 이를 회귀 분석과 예측 문제에 활용한다."
   ]
  },
  {
   "cell_type": "code",
   "execution_count": 1,
   "id": "d0224db1",
   "metadata": {},
   "outputs": [],
   "source": [
    "import numpy as np\n",
    "import matplotlib.pylab as plt\n",
    "import warnings\n",
    "warnings.filterwarnings(action='ignore')"
   ]
  },
  {
   "cell_type": "markdown",
   "id": "5956ef21",
   "metadata": {},
   "source": [
    "## 행렬 Norm\n",
    "\n",
    "**Norm**은 행렬 A에 대해 다음 식으로 정의되는 숫자이다. 보통 $\\Vert A \\Vert_p$로 표기한다. 행렬의 Norm에도 여러 정의가 있는데 여기서는 요소별 행렬 Norm(Entrywise Matrix Norm)의 정의를 따른다.\n",
    "\n",
    "$\n",
    "\\Vert A \\Vert_p = \\left( \\sum_{i=1}^N \\sum_{j=1}^M |a_{ij}|^p \\right)^{1/p}  \n",
    "$\n",
    "\n",
    "p는 보통 1, 2 또는 무한대가 많이 사용되는데 이 중 p=2 인 경우가 가장 많이 사용되므로 p 값의 표시가 없는 경우는 p = 2인 Norm이라고 생각하면 된다. p = 2인 Norm은 Frobenius Norm이라고 불리며 $\\Vert A \\Vert_F$라고 표기하기도 한다.\n",
    "\n",
    "$\n",
    "\\Vert A \\Vert = \\Vert A \\Vert_2 = \\Vert A \\Vert_F = \\sqrt{\\sum_{i=1}^N \\sum_{j=1}^M a_{ij}^2}  \n",
    "$\n",
    "\n",
    "Norm의 정의에서 제곱근이 들어 있는 바, Norm은 항상 0보다 같거나 크다는 것을 알 수 있다. Norm은 모든 크기의 행렬에 대해서 정의할 수 있으므로 벡터에 대해서도 정의할 수 있다. 벡터의 Norm에서 중요한 성질은 벡터의 Norm의 제곱이 벡터의 제곱합과 같다는 것이다.\n",
    "\n",
    "$\n",
    "\\Vert x \\Vert^2 = \\sum_{i=1}^N x_{i}^2 = x^Tx  \n",
    "$"
   ]
  },
  {
   "cell_type": "code",
   "execution_count": 2,
   "id": "c047aefd",
   "metadata": {},
   "outputs": [
    {
     "data": {
      "text/plain": [
       "array([[-4, -3, -2],\n",
       "       [-1,  0,  1],\n",
       "       [ 2,  3,  4]])"
      ]
     },
     "execution_count": 2,
     "metadata": {},
     "output_type": "execute_result"
    }
   ],
   "source": [
    "A = (np.arange(9) - 4).reshape((3,3))\n",
    "A"
   ]
  },
  {
   "cell_type": "code",
   "execution_count": 3,
   "id": "0fcd63dc",
   "metadata": {},
   "outputs": [
    {
     "data": {
      "text/plain": [
       "7.745966692414834"
      ]
     },
     "execution_count": 3,
     "metadata": {},
     "output_type": "execute_result"
    }
   ],
   "source": [
    "np.linalg.norm(A)"
   ]
  },
  {
   "cell_type": "markdown",
   "id": "aa4fb15c",
   "metadata": {},
   "source": [
    "## 대각합(Trace)\n",
    "\n",
    "**대각합**은 정방행렬에 대해서만 정의되며 다음처럼 대각 원소의 합으로 계산된다.\n",
    "\n",
    "$\n",
    "\\text{tr}(A) = a_{11} + a_{22} + \\dots + a_{NN}=\\sum_{i=1}^{N} a_{ii}\n",
    "$\n",
    "\n",
    "예를 들어 N 차원 항등행렬의 대각합은 N이 될 것이다.대각합에는 여러 성질이 있는데 아래와 같다.\n",
    "\n",
    "$\n",
    "\\text{tr}(I_N) = N ... (1)\n",
    "$\n",
    "\n",
    "$\n",
    "\\text{tr} (cA) = c\\;\\text{tr}(A) ... (2) \n",
    "$\n",
    "\n",
    "$\n",
    "\\text{tr} (A + B) = \\text{tr} (A) + \\text{tr} (B) ... (3)\n",
    "$\n",
    "\n",
    "$\n",
    "\\text{tr} (AB) = \\text{tr}(BA) ... (4)\n",
    "$\n",
    "\n",
    "마지막 식은 **Trace Trick**이라고 하여 이차 형식의 미분을 구하는 데 유용하게 사용된다.\n",
    "\n",
    "$\n",
    "x^TAx = \\text{tr}(x^TAx) = \\text{tr}(Axx^T)  = \\text{tr}(xx^TA)  \n",
    "$"
   ]
  },
  {
   "cell_type": "code",
   "execution_count": 4,
   "id": "4198f882",
   "metadata": {},
   "outputs": [
    {
     "data": {
      "text/plain": [
       "array([[1., 0., 0.],\n",
       "       [0., 1., 0.],\n",
       "       [0., 0., 1.]])"
      ]
     },
     "execution_count": 4,
     "metadata": {},
     "output_type": "execute_result"
    }
   ],
   "source": [
    "np.eye(3)"
   ]
  },
  {
   "cell_type": "code",
   "execution_count": 5,
   "id": "43261ead",
   "metadata": {},
   "outputs": [
    {
     "data": {
      "text/plain": [
       "3.0"
      ]
     },
     "execution_count": 5,
     "metadata": {},
     "output_type": "execute_result"
    }
   ],
   "source": [
    "np.trace(np.eye(3))"
   ]
  },
  {
   "cell_type": "markdown",
   "id": "9d9b9b1f",
   "metadata": {},
   "source": [
    "## 행렬식(Determinant)\n",
    "\n",
    "정방 행렬 A의 **행렬식**은 $det(A), detA, |A|$라는 기호로 표기한다.\n",
    "\n",
    "행렬식은 다음처럼 재귀적인 방법으로 정의된다.\n",
    "\n",
    "$\n",
    "\\det(A) = \\sum_{i=1}^N \\left\\{ (-1)^{i+j_0}M_{i,j_0} \\right\\} a_{i,j_0}  \n",
    "$\n",
    "\n",
    "행렬 A가 스칼라가 아니면 위와 같이 **Cofactor Expansion**에 의해 계산되는데 이 식에서 $a_i, a_j$는 A의 i번째 행, j열 원소를 의미하며, $i_0(j_0)$은 계산하는 사람이 임의로 선택한 행번호 (또는 열 번호) 이다.\n",
    "\n",
    "즉 행렬에서 임의의 행 $i_0$를 선택하거나 임의의 열 $j_0$을 선택한 다음 이 값에 가중치 $(-1)^{i+j_0}M_{i,j_0}$을 곱하여 더한 것이다. "
   ]
  },
  {
   "cell_type": "code",
   "execution_count": 6,
   "id": "556b43a2",
   "metadata": {
    "scrolled": true
   },
   "outputs": [
    {
     "data": {
      "text/plain": [
       "array([[1, 2, 3],\n",
       "       [4, 5, 6],\n",
       "       [7, 8, 9]])"
      ]
     },
     "execution_count": 6,
     "metadata": {},
     "output_type": "execute_result"
    }
   ],
   "source": [
    "A = np.array([[1, 2, 3], [4, 5, 6], [7, 8, 9]])\n",
    "A"
   ]
  },
  {
   "cell_type": "markdown",
   "id": "77bb70ef",
   "metadata": {},
   "source": [
    "$\n",
    "\\det \\left( \\begin{bmatrix}a&b&c\\\\d&e&f\\\\g&h&i\\end{bmatrix} \\right) =aei+bfg+cdh-ceg-bdi-afh\n",
    "$"
   ]
  },
  {
   "cell_type": "code",
   "execution_count": 7,
   "id": "91eeea5c",
   "metadata": {
    "scrolled": true
   },
   "outputs": [
    {
     "data": {
      "text/plain": [
       "0.0"
      ]
     },
     "execution_count": 7,
     "metadata": {},
     "output_type": "execute_result"
    }
   ],
   "source": [
    "np.linalg.det(A)"
   ]
  },
  {
   "cell_type": "markdown",
   "id": "85705546",
   "metadata": {},
   "source": [
    "## 선형 연립방정식(System of Linear Equations)\n",
    "\n",
    "복수의 미지수를 포함하는 복수의 선형 방정식을 선형 연립방정식 또는 연립 일차방정식이라고 한다.\n",
    "\n",
    "$x_1, x_2 ... x_M$이라는 **M개의 미지수를 갖는 N개의 선형 연립방정식**은 아래와같은 형태가 된다. 이 때 a와 b는 방정식의 계수이다.\n",
    "\n",
    "$\n",
    "\\begin{matrix}\n",
    "a_{11} x_1 & + \\;& a_{12} x_2   &\\; + \\cdots + \\;& a_{1M} x_M &\\; = \\;& b_1 \\\\\n",
    "a_{21} x_1 & + \\;& a_{22} x_2   &\\; + \\cdots + \\;& a_{2M} x_M &\\; = \\;& b_2 \\\\\n",
    "\\vdots\\;\\;\\; &   & \\vdots\\;\\;\\; &                & \\vdots\\;\\;\\; &     & \\;\\vdots \\\\\n",
    "a_{N1} x_1 & + \\;& a_{N2} x_2   &\\; + \\cdots + \\;& a_{NM} x_M &\\; = \\;& b_N \\\\\n",
    "\\end{matrix}\n",
    "$\n",
    "\n",
    "행렬과 벡터의 곱셈을 이용하면 위의 선형 연립 방정식은 다음처럼 간단하게 쓸 수 있다.\n",
    "\n",
    "$\n",
    "\\begin{bmatrix}\n",
    "a_{11} & a_{12} & \\cdots & a_{1M} \\\\\n",
    "a_{21} & a_{22} & \\cdots & a_{2M} \\\\\n",
    "\\vdots & \\vdots & \\ddots & \\vdots \\\\\n",
    "a_{N1} & a_{N2} & \\cdots & a_{NM} \\\\\n",
    "\\end{bmatrix}\n",
    "\\begin{bmatrix}\n",
    "x_1 \\\\ x_2 \\\\ \\vdots \\\\ x_M\n",
    "\\end{bmatrix}\n",
    "=\n",
    "\\begin{bmatrix}\n",
    "b_1 \\\\ b_2 \\\\ \\vdots \\\\ b_N\n",
    "\\end{bmatrix}\n",
    "$\n",
    "라고 하면 다음처럼 간단하게도 쓸 수 있다.\n",
    "\n",
    "$\n",
    "Ax = b\n",
    "$\n",
    "\n",
    "$A, x, b$는 각각 계수 행렬(Coefficient Matrix), 미지수 벡터(Unknown Vector), 상수 벡터(Constant Vector)라고 부른다.\n",
    "\n",
    "## 역행렬과 선형 연립방정식의 해\n",
    "\n",
    "선형 연립방정식에서 미지수의 수와 방정식의 수가 같다면 계수 행렬 A는 정방행렬이 된다. 만약 행렬 $A$의 역행렬 $A^{-1}$이 존재한다면 역행렬의 정의로부터 선형 연립방정식의 해는 다음처럼 구할 수 있다.\n",
    "\n",
    "$\n",
    "Ax = b ... (1)\n",
    "$\n",
    "\n",
    "$\n",
    "A^{-1}Ax = A^{-1}b ... (2) \n",
    "$\n",
    "\n",
    "$\n",
    "x = A^{-1}b ... (3)\n",
    "$"
   ]
  },
  {
   "cell_type": "code",
   "execution_count": 8,
   "id": "993fa0cb",
   "metadata": {},
   "outputs": [
    {
     "data": {
      "text/plain": [
       "array([[1, 1, 0],\n",
       "       [0, 1, 1],\n",
       "       [1, 1, 1]])"
      ]
     },
     "execution_count": 8,
     "metadata": {},
     "output_type": "execute_result"
    }
   ],
   "source": [
    "A = np.array([[1, 1, 0], [0, 1, 1], [1, 1, 1]])\n",
    "A"
   ]
  },
  {
   "cell_type": "code",
   "execution_count": 9,
   "id": "781fe6af",
   "metadata": {},
   "outputs": [
    {
     "data": {
      "text/plain": [
       "array([[2],\n",
       "       [2],\n",
       "       [3]])"
      ]
     },
     "execution_count": 9,
     "metadata": {},
     "output_type": "execute_result"
    }
   ],
   "source": [
    "b = np.array([[2], [2], [3]])\n",
    "b"
   ]
  },
  {
   "cell_type": "code",
   "execution_count": 10,
   "id": "870e42ad",
   "metadata": {},
   "outputs": [
    {
     "data": {
      "text/plain": [
       "array([[ 0., -1.,  1.],\n",
       "       [ 1.,  1., -1.],\n",
       "       [-1.,  0.,  1.]])"
      ]
     },
     "execution_count": 10,
     "metadata": {},
     "output_type": "execute_result"
    }
   ],
   "source": [
    "Ainv = np.linalg.inv(A)\n",
    "Ainv"
   ]
  },
  {
   "cell_type": "code",
   "execution_count": 11,
   "id": "5b678034",
   "metadata": {
    "scrolled": true
   },
   "outputs": [
    {
     "data": {
      "text/plain": [
       "array([[1.],\n",
       "       [1.],\n",
       "       [1.]])"
      ]
     },
     "execution_count": 11,
     "metadata": {},
     "output_type": "execute_result"
    }
   ],
   "source": [
    "x = Ainv @ b\n",
    "x"
   ]
  },
  {
   "cell_type": "code",
   "execution_count": 12,
   "id": "84ba5ee1",
   "metadata": {
    "scrolled": true
   },
   "outputs": [
    {
     "data": {
      "text/plain": [
       "array([[0.],\n",
       "       [0.],\n",
       "       [0.]])"
      ]
     },
     "execution_count": 12,
     "metadata": {},
     "output_type": "execute_result"
    }
   ],
   "source": [
    "A @ x - b"
   ]
  },
  {
   "cell_type": "markdown",
   "id": "31ec123c",
   "metadata": {},
   "source": [
    "`listsq()` 명령은 행렬 A와 b를 모두 인수로 받고, 뒤에서 설명할 최소자승문제의 답 `x`, 잔차 제곱합 `resid`, `rank`, 특이값 `s`를 반환한다. 미지수와 방정식의 개수가 같고 A의 역행렬이 존재하면 최소자승문제의 답과 선형 연립방정식의 답이 같으므로 lstsq() 명령으로 선형 연립방정식을 풀 수도 있다."
   ]
  },
  {
   "cell_type": "code",
   "execution_count": 13,
   "id": "962997d4",
   "metadata": {},
   "outputs": [
    {
     "data": {
      "text/plain": [
       "array([[1.],\n",
       "       [1.],\n",
       "       [1.]])"
      ]
     },
     "execution_count": 13,
     "metadata": {},
     "output_type": "execute_result"
    }
   ],
   "source": [
    "x, resid, rank, s = np.linalg.lstsq(A, b)\n",
    "x"
   ]
  },
  {
   "cell_type": "markdown",
   "id": "05ba53fd",
   "metadata": {},
   "source": [
    "## 선형 연립방정식과 선형 예측 모형\n",
    "\n",
    "**선형 예측 모형**의 가중치 벡터를 구하는 문제는 선형 연립방정식을 푸는 것과 같다.\n",
    "\n",
    "예를 들어 N개의 입력 차원을 가지는 특징 벡터 N개를 입력 데이터로 이용하고 이 입력에 대응하는 목표값 벡터를 출력하는 선형 예측 모형을 생각해보자\n",
    "\n",
    "$\n",
    "\\begin{matrix}\n",
    "x_{11} w_1 & + \\;& x_{12} w_2   &\\; + \\cdots + \\;& x_{1N} w_N &\\; = \\;& y_1 \\\\\n",
    "x_{21} w_1 & + \\;& x_{22} w_2   &\\; + \\cdots + \\;& x_{2N} w_N &\\; = \\;& y_2 \\\\\n",
    "\\vdots\\;\\;\\; &   & \\vdots\\;\\;\\; &                & \\vdots\\;\\;\\; &     & \\;\\vdots \\\\\n",
    "x_{N1} w_1 & + \\;& x_{N2} w_2   &\\; + \\cdots + \\;& x_{NN} w_N &\\; = \\;& y_N \\\\\n",
    "\\end{matrix}\n",
    "$\n",
    "\n",
    "위의 식을 간단히 하면 $Xw = y$가 될 것이며 이 예측 모형의 가중치 벡터 $w$를 찾는 것은 계수 행렬이 $X$, 미지수 벡터가 $w$, 상수 벡터가 $y$인 성형 연립방정식의 답을 찾는 것과 같다. 그리고 만약 계수행렬(여기서는 $X$의 역행렬 $X^{-1}$)이 존재하면 다음처럼 가중치 벡터를 구할 수 있다.\n",
    "\n",
    "$\n",
    "w = X^{-1}Y\n",
    "$\n",
    "\n",
    "## 최소자승문제(Least Square Problem)\n",
    "\n",
    "선형 예측 모형을 구하는 문제는 보통 계수행렬이 특징행렬인 $X$, 미지수 벡터가 가중치 벡터 $w$인 선형 연립방정식 문제이다. 그러나 실제 데이터의 수는 입력차원보다 큰 경우가 많다.\n",
    "\n",
    "예를 들어 면적, 층수, 한강이 보이는지의 여부로 집값을 결정하는 모형을 만들기 위해서 딱 3가구의 아파트 가격만 조사하는 경우는 없을 것이다. 보통은 100가구 혹은 그 이상의 가격을 수집하여 이용하는 것이 일반적이다. 다시 말해 선형 예측 모형을 구할 때는 '방정식의 수가 미지수의 수보다 많은 경우'가 일반적이며, 이 때에는 선형 연립방정식의 해가 존재하지 않으므로 선형 연립방정식을 푸는 방식으로는 선형 예측 모형의 가중치 벡터를 구할 수 없다.\n",
    "\n",
    "이렇게 선형 연립 방정식의 해가 존재하지 않을 때 선형 예측 모형을 구하는 방법 중 하나가 **최소자승문제**이다. 미지수의 개수보다 방정식의 개수가 많아서 선형 연립 방정식으로 풀 수 없는 문제는 좌변과 우변의 차이를 최소화하는 문제로 풀 수 있다. 앞서 예측값과 목푯값의 차이를 **잔차(Residual)**라고 한다고 했다.\n",
    "\n",
    "$\n",
    "e = Ax-b\n",
    "$\n",
    "\n",
    "잔차는 벡터이므로 최소자승문제에서는 벡터의 크기 중에서 벡터의 Norm을 최소화하는 문제를 푼다. 앞에서 Norm을 최소화하는 것은 Norm의 제곱을 최소화하는 것과 같다고 한 바, 잔차를 최소화하는 식은 아래와 같이 표현할 수 있다.\n",
    "\n",
    "$\n",
    "e^Te = \\Vert e \\Vert^2 = (Ax-b)^T(Ax-b)  \n",
    "$\n",
    "\n",
    "$\n",
    "x = \\text{arg} \\min_x e^Te = \\text{arg} \\min_x  \\; (Ax-b)^T(Ax-b)  \n",
    "$\n",
    "\n",
    "위 식에서 $\\text{arg} \\min_x f(x)$는 함수 $f(x)$를 가장 작게 만드는 $x$값을 의미하며, 이러한 문제를 **최소자승문제(Least Square Problem)** 라고 한다. "
   ]
  },
  {
   "cell_type": "code",
   "execution_count": 14,
   "id": "57b0e2ab",
   "metadata": {},
   "outputs": [
    {
     "data": {
      "text/plain": [
       "array([[1, 1, 0],\n",
       "       [0, 1, 1],\n",
       "       [1, 1, 1],\n",
       "       [1, 1, 2]])"
      ]
     },
     "execution_count": 14,
     "metadata": {},
     "output_type": "execute_result"
    }
   ],
   "source": [
    "A = np.array([[1, 1, 0], [0, 1, 1], [1, 1, 1], [1, 1, 2]])\n",
    "A"
   ]
  },
  {
   "cell_type": "code",
   "execution_count": 15,
   "id": "6828f35b",
   "metadata": {},
   "outputs": [
    {
     "data": {
      "text/plain": [
       "array([[2. ],\n",
       "       [2. ],\n",
       "       [3. ],\n",
       "       [4.1]])"
      ]
     },
     "execution_count": 15,
     "metadata": {},
     "output_type": "execute_result"
    }
   ],
   "source": [
    "b = np.array([[2], [2], [3], [4.1]])\n",
    "b"
   ]
  },
  {
   "cell_type": "markdown",
   "id": "648938aa",
   "metadata": {},
   "source": [
    "$\n",
    "    Ax \\approx b ... (1)\n",
    "$\n",
    "\n",
    "위의 식의 양변에 $A^T$를 곱하면 각각 $A^TAx$와 $A^Tb$가 된다. 이 두개의 벡터의 값이 같다고 일단 가정하면 다음과 같다.\n",
    "\n",
    "$\n",
    "    A^TAx = A^Tb ... (2)\n",
    "$\n",
    "\n",
    "만약 정방 행렬 $A^TA$의 역행렬 $(A^TA)^{-1}$이 존재한다면\n",
    "\n",
    "$\n",
    "    (A^TA)^{-1}(A^TA)x = (A^TA)^{-1}A^Tb ... (3)\n",
    "$\n",
    "\n",
    "이 될 것이며 이를 정리하면 아래와 같다.\n",
    "\n",
    "$\n",
    "    x = ((A^TA)^{-1}A^T) b ... (4)\n",
    "$\n",
    "\n",
    "**(4)**에서 $(A^TA)^{-1}A^T$를 행렬 A의 **의사역행렬(Pseudo Inverse)** 라고 하며 다음처럼 $A^{+}$로 표기한다.\n",
    "\n",
    "$\n",
    "    A^{+} = (A^TA)^{-1}A^T\n",
    "$"
   ]
  },
  {
   "cell_type": "code",
   "execution_count": 16,
   "id": "9dad192f",
   "metadata": {},
   "outputs": [
    {
     "data": {
      "text/plain": [
       "array([[ 0.33333333, -1.        ,  0.33333333,  0.33333333],\n",
       "       [ 0.5       ,  1.        ,  0.        , -0.5       ],\n",
       "       [-0.5       ,  0.        ,  0.        ,  0.5       ]])"
      ]
     },
     "execution_count": 16,
     "metadata": {},
     "output_type": "execute_result"
    }
   ],
   "source": [
    "# Apinv는 A의 의사 역행렬\n",
    "Apinv = np.linalg.inv(A.T @ A) @ A.T\n",
    "Apinv"
   ]
  },
  {
   "cell_type": "code",
   "execution_count": 17,
   "id": "d7319ae4",
   "metadata": {},
   "outputs": [
    {
     "data": {
      "text/plain": [
       "array([[1.03333333],\n",
       "       [0.95      ],\n",
       "       [1.05      ]])"
      ]
     },
     "execution_count": 17,
     "metadata": {},
     "output_type": "execute_result"
    }
   ],
   "source": [
    "x = Apinv @ b\n",
    "x"
   ]
  },
  {
   "cell_type": "code",
   "execution_count": 18,
   "id": "a7a1e774",
   "metadata": {},
   "outputs": [
    {
     "data": {
      "text/plain": [
       "array([[1.98333333],\n",
       "       [2.        ],\n",
       "       [3.03333333],\n",
       "       [4.08333333]])"
      ]
     },
     "execution_count": 18,
     "metadata": {},
     "output_type": "execute_result"
    }
   ],
   "source": [
    "A @ x"
   ]
  },
  {
   "cell_type": "code",
   "execution_count": 19,
   "id": "fa3d1624",
   "metadata": {},
   "outputs": [
    {
     "data": {
      "text/plain": [
       "array([[1.03333333],\n",
       "       [0.95      ],\n",
       "       [1.05      ]])"
      ]
     },
     "execution_count": 19,
     "metadata": {},
     "output_type": "execute_result"
    }
   ],
   "source": [
    "x, resid, rank, s = np.linalg.lstsq(A, b)\n",
    "x"
   ]
  },
  {
   "cell_type": "code",
   "execution_count": 20,
   "id": "0ce77f41",
   "metadata": {},
   "outputs": [
    {
     "data": {
      "text/plain": [
       "(array([0.00166667]), 0.001666666666666655)"
      ]
     },
     "execution_count": 20,
     "metadata": {},
     "output_type": "execute_result"
    }
   ],
   "source": [
    "resid, np.linalg.norm(A @ x - b) ** 2"
   ]
  },
  {
   "cell_type": "markdown",
   "id": "0e6e7a73",
   "metadata": {},
   "source": [
    "## 연습\n",
    "\n",
    "보스턴 집값 문제를 선형 예측모형 $Xw=\\hat{y}$로 풀었을 대의 가중치 벡터 $w$를 최소 자승법으로 구해보자\n",
    "\n",
    "행렬 X의 각 열이 의미하는 바는 다음과 같다.\n",
    "\n",
    "- CRIM: 범죄율\n",
    "- INDUS: 비소매상업지역 면적 비율\n",
    "- NOX: 일산화질소 농도\n",
    "- RM: 주택당 방 수\n",
    "- LSTAT: 인구 중 하위 계층 비율\n",
    "- B: 인구 중 흑인 비율\n",
    "- PTRATIO: 학생/교사 비율\n",
    "- ZN: 25,000 평방피트를 초과 거주지역 비율\n",
    "- CHAS: 찰스강의 경계에 위치한 경우는 1, 아니면 0\n",
    "- AGE: 1940년 이전에 건축된 주택의 비율\n",
    "- RAD: 방사형 고속도로까지의 거리\n",
    "- DIS: 보스톤 직업 센터 5곳까지의 가중평균거리\n",
    "- TAX: 재산세율"
   ]
  },
  {
   "cell_type": "code",
   "execution_count": 21,
   "id": "e5daa3d0",
   "metadata": {},
   "outputs": [],
   "source": [
    "from sklearn.datasets import load_boston\n",
    "boston = load_boston()\n",
    "X = boston.data\n",
    "y = boston.target"
   ]
  },
  {
   "cell_type": "code",
   "execution_count": 22,
   "id": "40aaa397",
   "metadata": {
    "scrolled": true
   },
   "outputs": [
    {
     "data": {
      "text/plain": [
       "(506, 13)"
      ]
     },
     "execution_count": 22,
     "metadata": {},
     "output_type": "execute_result"
    }
   ],
   "source": [
    "X.shape"
   ]
  },
  {
   "cell_type": "code",
   "execution_count": 23,
   "id": "b9d035af",
   "metadata": {
    "scrolled": true
   },
   "outputs": [
    {
     "data": {
      "text/plain": [
       "(506,)"
      ]
     },
     "execution_count": 23,
     "metadata": {},
     "output_type": "execute_result"
    }
   ],
   "source": [
    "y.shape"
   ]
  },
  {
   "cell_type": "code",
   "execution_count": 24,
   "id": "b1c0a476",
   "metadata": {},
   "outputs": [],
   "source": [
    "import pandas as pd\n",
    "import statsmodels.api as sm"
   ]
  },
  {
   "cell_type": "code",
   "execution_count": 25,
   "id": "8384b33e",
   "metadata": {},
   "outputs": [],
   "source": [
    "dfX0 = pd.DataFrame(boston.data, columns=boston.feature_names)\n",
    "dfX = sm.add_constant(dfX0)\n",
    "dfy = pd.DataFrame(boston.target, columns=['MEDV'])"
   ]
  },
  {
   "cell_type": "code",
   "execution_count": 26,
   "id": "cc012f4b",
   "metadata": {},
   "outputs": [
    {
     "name": "stdout",
     "output_type": "stream",
     "text": [
      "                            OLS Regression Results                            \n",
      "==============================================================================\n",
      "Dep. Variable:                   MEDV   R-squared:                       0.741\n",
      "Model:                            OLS   Adj. R-squared:                  0.734\n",
      "Method:                 Least Squares   F-statistic:                     108.1\n",
      "Date:                Wed, 23 Feb 2022   Prob (F-statistic):          6.72e-135\n",
      "Time:                        10:11:59   Log-Likelihood:                -1498.8\n",
      "No. Observations:                 506   AIC:                             3026.\n",
      "Df Residuals:                     492   BIC:                             3085.\n",
      "Df Model:                          13                                         \n",
      "Covariance Type:            nonrobust                                         \n",
      "==============================================================================\n",
      "                 coef    std err          t      P>|t|      [0.025      0.975]\n",
      "------------------------------------------------------------------------------\n",
      "const         36.4595      5.103      7.144      0.000      26.432      46.487\n",
      "CRIM          -0.1080      0.033     -3.287      0.001      -0.173      -0.043\n",
      "ZN             0.0464      0.014      3.382      0.001       0.019       0.073\n",
      "INDUS          0.0206      0.061      0.334      0.738      -0.100       0.141\n",
      "CHAS           2.6867      0.862      3.118      0.002       0.994       4.380\n",
      "NOX          -17.7666      3.820     -4.651      0.000     -25.272     -10.262\n",
      "RM             3.8099      0.418      9.116      0.000       2.989       4.631\n",
      "AGE            0.0007      0.013      0.052      0.958      -0.025       0.027\n",
      "DIS           -1.4756      0.199     -7.398      0.000      -1.867      -1.084\n",
      "RAD            0.3060      0.066      4.613      0.000       0.176       0.436\n",
      "TAX           -0.0123      0.004     -3.280      0.001      -0.020      -0.005\n",
      "PTRATIO       -0.9527      0.131     -7.283      0.000      -1.210      -0.696\n",
      "B              0.0093      0.003      3.467      0.001       0.004       0.015\n",
      "LSTAT         -0.5248      0.051    -10.347      0.000      -0.624      -0.425\n",
      "==============================================================================\n",
      "Omnibus:                      178.041   Durbin-Watson:                   1.078\n",
      "Prob(Omnibus):                  0.000   Jarque-Bera (JB):              783.126\n",
      "Skew:                           1.521   Prob(JB):                    8.84e-171\n",
      "Kurtosis:                       8.281   Cond. No.                     1.51e+04\n",
      "==============================================================================\n",
      "\n",
      "Notes:\n",
      "[1] Standard Errors assume that the covariance matrix of the errors is correctly specified.\n",
      "[2] The condition number is large, 1.51e+04. This might indicate that there are\n",
      "strong multicollinearity or other numerical problems.\n"
     ]
    }
   ],
   "source": [
    "model_boston = sm.OLS(dfy, dfX)\n",
    "result_boston = model_boston.fit()\n",
    "print(result_boston.summary())"
   ]
  }
 ],
 "metadata": {
  "kernelspec": {
   "display_name": "Python 3 (ipykernel)",
   "language": "python",
   "name": "python3"
  },
  "language_info": {
   "codemirror_mode": {
    "name": "ipython",
    "version": 3
   },
   "file_extension": ".py",
   "mimetype": "text/x-python",
   "name": "python",
   "nbconvert_exporter": "python",
   "pygments_lexer": "ipython3",
   "version": "3.8.12"
  }
 },
 "nbformat": 4,
 "nbformat_minor": 5
}
