{
 "cells": [
  {
   "cell_type": "markdown",
   "id": "6694bb44",
   "metadata": {},
   "source": [
    "# 30 Examples to Master Pandas\n",
    "\n",
    "## A comprehensive practical guide for learning Pandas\n",
    "\n",
    "**Reference** : [towardsdatascience.com - 30-examples-to-master-pandas](https://towardsdatascience.com/30-examples-to-master-pandas-f8a2da751fa4)\n",
    "\n",
    "**Dataset** : [Churn Modeling.csv](https://www.kaggle.com/shubh0799/churn-modelling)\n",
    "\n",
    "Pandas is a widely-used data analysis and manipulation library for Python. \n",
    "It provides numerous functions and methods that expedite the data analysis and preprocessing steps.\n",
    "\n",
    "Due to its popularity, there are lots of articles and tutorials about Pandas. \n",
    "This one will be one of them but heavily focusing on the practical side. \n",
    "I will do examples on a customer churn dataset that is available on Kaggle.\n",
    "\n",
    "The examples will cover almost all the functions and methods you are likely to use in a typical data analysis process.\n",
    "\n",
    "Let’s start by reading the csv file into a pandas dataframe.\n",
    "\n",
    "> 30 Examples to Master Pandas 예시를 실습한 자료입니다. Kaggle Churn Dataset을 사용하였으며 전처리, 시각화하는 다양한 방법을 실습하였습니다.\n",
    "\n",
    "#### @jhbale11"
   ]
  },
  {
   "cell_type": "markdown",
   "id": "46381686",
   "metadata": {},
   "source": [
    "## 0. Load Data"
   ]
  },
  {
   "cell_type": "code",
   "execution_count": 1,
   "id": "0d3834bc",
   "metadata": {},
   "outputs": [
    {
     "data": {
      "text/html": [
       "<div>\n",
       "<style scoped>\n",
       "    .dataframe tbody tr th:only-of-type {\n",
       "        vertical-align: middle;\n",
       "    }\n",
       "\n",
       "    .dataframe tbody tr th {\n",
       "        vertical-align: top;\n",
       "    }\n",
       "\n",
       "    .dataframe thead th {\n",
       "        text-align: right;\n",
       "    }\n",
       "</style>\n",
       "<table border=\"1\" class=\"dataframe\">\n",
       "  <thead>\n",
       "    <tr style=\"text-align: right;\">\n",
       "      <th></th>\n",
       "      <th>RowNumber</th>\n",
       "      <th>CustomerId</th>\n",
       "      <th>Surname</th>\n",
       "      <th>CreditScore</th>\n",
       "      <th>Geography</th>\n",
       "      <th>Gender</th>\n",
       "      <th>Age</th>\n",
       "      <th>Tenure</th>\n",
       "      <th>Balance</th>\n",
       "      <th>NumOfProducts</th>\n",
       "      <th>HasCrCard</th>\n",
       "      <th>IsActiveMember</th>\n",
       "      <th>EstimatedSalary</th>\n",
       "      <th>Exited</th>\n",
       "    </tr>\n",
       "  </thead>\n",
       "  <tbody>\n",
       "    <tr>\n",
       "      <th>0</th>\n",
       "      <td>1</td>\n",
       "      <td>15634602</td>\n",
       "      <td>Hargrave</td>\n",
       "      <td>619</td>\n",
       "      <td>France</td>\n",
       "      <td>Female</td>\n",
       "      <td>42</td>\n",
       "      <td>2</td>\n",
       "      <td>0.00</td>\n",
       "      <td>1</td>\n",
       "      <td>1</td>\n",
       "      <td>1</td>\n",
       "      <td>101348.88</td>\n",
       "      <td>1</td>\n",
       "    </tr>\n",
       "    <tr>\n",
       "      <th>1</th>\n",
       "      <td>2</td>\n",
       "      <td>15647311</td>\n",
       "      <td>Hill</td>\n",
       "      <td>608</td>\n",
       "      <td>Spain</td>\n",
       "      <td>Female</td>\n",
       "      <td>41</td>\n",
       "      <td>1</td>\n",
       "      <td>83807.86</td>\n",
       "      <td>1</td>\n",
       "      <td>0</td>\n",
       "      <td>1</td>\n",
       "      <td>112542.58</td>\n",
       "      <td>0</td>\n",
       "    </tr>\n",
       "    <tr>\n",
       "      <th>2</th>\n",
       "      <td>3</td>\n",
       "      <td>15619304</td>\n",
       "      <td>Onio</td>\n",
       "      <td>502</td>\n",
       "      <td>France</td>\n",
       "      <td>Female</td>\n",
       "      <td>42</td>\n",
       "      <td>8</td>\n",
       "      <td>159660.80</td>\n",
       "      <td>3</td>\n",
       "      <td>1</td>\n",
       "      <td>0</td>\n",
       "      <td>113931.57</td>\n",
       "      <td>1</td>\n",
       "    </tr>\n",
       "    <tr>\n",
       "      <th>3</th>\n",
       "      <td>4</td>\n",
       "      <td>15701354</td>\n",
       "      <td>Boni</td>\n",
       "      <td>699</td>\n",
       "      <td>France</td>\n",
       "      <td>Female</td>\n",
       "      <td>39</td>\n",
       "      <td>1</td>\n",
       "      <td>0.00</td>\n",
       "      <td>2</td>\n",
       "      <td>0</td>\n",
       "      <td>0</td>\n",
       "      <td>93826.63</td>\n",
       "      <td>0</td>\n",
       "    </tr>\n",
       "    <tr>\n",
       "      <th>4</th>\n",
       "      <td>5</td>\n",
       "      <td>15737888</td>\n",
       "      <td>Mitchell</td>\n",
       "      <td>850</td>\n",
       "      <td>Spain</td>\n",
       "      <td>Female</td>\n",
       "      <td>43</td>\n",
       "      <td>2</td>\n",
       "      <td>125510.82</td>\n",
       "      <td>1</td>\n",
       "      <td>1</td>\n",
       "      <td>1</td>\n",
       "      <td>79084.10</td>\n",
       "      <td>0</td>\n",
       "    </tr>\n",
       "    <tr>\n",
       "      <th>...</th>\n",
       "      <td>...</td>\n",
       "      <td>...</td>\n",
       "      <td>...</td>\n",
       "      <td>...</td>\n",
       "      <td>...</td>\n",
       "      <td>...</td>\n",
       "      <td>...</td>\n",
       "      <td>...</td>\n",
       "      <td>...</td>\n",
       "      <td>...</td>\n",
       "      <td>...</td>\n",
       "      <td>...</td>\n",
       "      <td>...</td>\n",
       "      <td>...</td>\n",
       "    </tr>\n",
       "    <tr>\n",
       "      <th>9995</th>\n",
       "      <td>9996</td>\n",
       "      <td>15606229</td>\n",
       "      <td>Obijiaku</td>\n",
       "      <td>771</td>\n",
       "      <td>France</td>\n",
       "      <td>Male</td>\n",
       "      <td>39</td>\n",
       "      <td>5</td>\n",
       "      <td>0.00</td>\n",
       "      <td>2</td>\n",
       "      <td>1</td>\n",
       "      <td>0</td>\n",
       "      <td>96270.64</td>\n",
       "      <td>0</td>\n",
       "    </tr>\n",
       "    <tr>\n",
       "      <th>9996</th>\n",
       "      <td>9997</td>\n",
       "      <td>15569892</td>\n",
       "      <td>Johnstone</td>\n",
       "      <td>516</td>\n",
       "      <td>France</td>\n",
       "      <td>Male</td>\n",
       "      <td>35</td>\n",
       "      <td>10</td>\n",
       "      <td>57369.61</td>\n",
       "      <td>1</td>\n",
       "      <td>1</td>\n",
       "      <td>1</td>\n",
       "      <td>101699.77</td>\n",
       "      <td>0</td>\n",
       "    </tr>\n",
       "    <tr>\n",
       "      <th>9997</th>\n",
       "      <td>9998</td>\n",
       "      <td>15584532</td>\n",
       "      <td>Liu</td>\n",
       "      <td>709</td>\n",
       "      <td>France</td>\n",
       "      <td>Female</td>\n",
       "      <td>36</td>\n",
       "      <td>7</td>\n",
       "      <td>0.00</td>\n",
       "      <td>1</td>\n",
       "      <td>0</td>\n",
       "      <td>1</td>\n",
       "      <td>42085.58</td>\n",
       "      <td>1</td>\n",
       "    </tr>\n",
       "    <tr>\n",
       "      <th>9998</th>\n",
       "      <td>9999</td>\n",
       "      <td>15682355</td>\n",
       "      <td>Sabbatini</td>\n",
       "      <td>772</td>\n",
       "      <td>Germany</td>\n",
       "      <td>Male</td>\n",
       "      <td>42</td>\n",
       "      <td>3</td>\n",
       "      <td>75075.31</td>\n",
       "      <td>2</td>\n",
       "      <td>1</td>\n",
       "      <td>0</td>\n",
       "      <td>92888.52</td>\n",
       "      <td>1</td>\n",
       "    </tr>\n",
       "    <tr>\n",
       "      <th>9999</th>\n",
       "      <td>10000</td>\n",
       "      <td>15628319</td>\n",
       "      <td>Walker</td>\n",
       "      <td>792</td>\n",
       "      <td>France</td>\n",
       "      <td>Female</td>\n",
       "      <td>28</td>\n",
       "      <td>4</td>\n",
       "      <td>130142.79</td>\n",
       "      <td>1</td>\n",
       "      <td>1</td>\n",
       "      <td>0</td>\n",
       "      <td>38190.78</td>\n",
       "      <td>0</td>\n",
       "    </tr>\n",
       "  </tbody>\n",
       "</table>\n",
       "<p>10000 rows × 14 columns</p>\n",
       "</div>"
      ],
      "text/plain": [
       "      RowNumber  CustomerId    Surname  CreditScore Geography  Gender  Age  \\\n",
       "0             1    15634602   Hargrave          619    France  Female   42   \n",
       "1             2    15647311       Hill          608     Spain  Female   41   \n",
       "2             3    15619304       Onio          502    France  Female   42   \n",
       "3             4    15701354       Boni          699    France  Female   39   \n",
       "4             5    15737888   Mitchell          850     Spain  Female   43   \n",
       "...         ...         ...        ...          ...       ...     ...  ...   \n",
       "9995       9996    15606229   Obijiaku          771    France    Male   39   \n",
       "9996       9997    15569892  Johnstone          516    France    Male   35   \n",
       "9997       9998    15584532        Liu          709    France  Female   36   \n",
       "9998       9999    15682355  Sabbatini          772   Germany    Male   42   \n",
       "9999      10000    15628319     Walker          792    France  Female   28   \n",
       "\n",
       "      Tenure    Balance  NumOfProducts  HasCrCard  IsActiveMember  \\\n",
       "0          2       0.00              1          1               1   \n",
       "1          1   83807.86              1          0               1   \n",
       "2          8  159660.80              3          1               0   \n",
       "3          1       0.00              2          0               0   \n",
       "4          2  125510.82              1          1               1   \n",
       "...      ...        ...            ...        ...             ...   \n",
       "9995       5       0.00              2          1               0   \n",
       "9996      10   57369.61              1          1               1   \n",
       "9997       7       0.00              1          0               1   \n",
       "9998       3   75075.31              2          1               0   \n",
       "9999       4  130142.79              1          1               0   \n",
       "\n",
       "      EstimatedSalary  Exited  \n",
       "0           101348.88       1  \n",
       "1           112542.58       0  \n",
       "2           113931.57       1  \n",
       "3            93826.63       0  \n",
       "4            79084.10       0  \n",
       "...               ...     ...  \n",
       "9995         96270.64       0  \n",
       "9996        101699.77       0  \n",
       "9997         42085.58       1  \n",
       "9998         92888.52       1  \n",
       "9999         38190.78       0  \n",
       "\n",
       "[10000 rows x 14 columns]"
      ]
     },
     "execution_count": 1,
     "metadata": {},
     "output_type": "execute_result"
    }
   ],
   "source": [
    "import numpy as np\n",
    "import pandas as pd\n",
    "\n",
    "df = pd.read_csv(\"./data/Churn_Modelling.csv\")\n",
    "df"
   ]
  },
  {
   "cell_type": "code",
   "execution_count": 2,
   "id": "b7ef93d7",
   "metadata": {},
   "outputs": [
    {
     "data": {
      "text/plain": [
       "(10000, 14)"
      ]
     },
     "execution_count": 2,
     "metadata": {},
     "output_type": "execute_result"
    }
   ],
   "source": [
    "df.shape"
   ]
  },
  {
   "cell_type": "code",
   "execution_count": 3,
   "id": "cfc1ef19",
   "metadata": {
    "scrolled": true
   },
   "outputs": [
    {
     "data": {
      "text/plain": [
       "Index(['RowNumber', 'CustomerId', 'Surname', 'CreditScore', 'Geography',\n",
       "       'Gender', 'Age', 'Tenure', 'Balance', 'NumOfProducts', 'HasCrCard',\n",
       "       'IsActiveMember', 'EstimatedSalary', 'Exited'],\n",
       "      dtype='object')"
      ]
     },
     "execution_count": 3,
     "metadata": {},
     "output_type": "execute_result"
    }
   ],
   "source": [
    "df.columns"
   ]
  },
  {
   "cell_type": "markdown",
   "id": "c78792aa",
   "metadata": {},
   "source": [
    "## 1. Dropping Columns\n",
    "\n",
    "`drop` 함수는 Column과 Row를 Drop하기 위해 사용됩니다. `inplace parameter`가 True일 경우 실행 결과를 저장하게 됩니다. `'RowNumber', 'CustomerId', 'Surname', 'CreditScore'`의 4개의 Column을 Drop하여 14개의 Column을 10개로 만들어보겠습니다."
   ]
  },
  {
   "cell_type": "code",
   "execution_count": 4,
   "id": "2f08e7df",
   "metadata": {},
   "outputs": [
    {
     "data": {
      "text/html": [
       "<div>\n",
       "<style scoped>\n",
       "    .dataframe tbody tr th:only-of-type {\n",
       "        vertical-align: middle;\n",
       "    }\n",
       "\n",
       "    .dataframe tbody tr th {\n",
       "        vertical-align: top;\n",
       "    }\n",
       "\n",
       "    .dataframe thead th {\n",
       "        text-align: right;\n",
       "    }\n",
       "</style>\n",
       "<table border=\"1\" class=\"dataframe\">\n",
       "  <thead>\n",
       "    <tr style=\"text-align: right;\">\n",
       "      <th></th>\n",
       "      <th>Geography</th>\n",
       "      <th>Gender</th>\n",
       "      <th>Age</th>\n",
       "      <th>Tenure</th>\n",
       "      <th>Balance</th>\n",
       "      <th>NumOfProducts</th>\n",
       "      <th>HasCrCard</th>\n",
       "      <th>IsActiveMember</th>\n",
       "      <th>EstimatedSalary</th>\n",
       "      <th>Exited</th>\n",
       "    </tr>\n",
       "  </thead>\n",
       "  <tbody>\n",
       "    <tr>\n",
       "      <th>0</th>\n",
       "      <td>France</td>\n",
       "      <td>Female</td>\n",
       "      <td>42</td>\n",
       "      <td>2</td>\n",
       "      <td>0.00</td>\n",
       "      <td>1</td>\n",
       "      <td>1</td>\n",
       "      <td>1</td>\n",
       "      <td>101348.88</td>\n",
       "      <td>1</td>\n",
       "    </tr>\n",
       "    <tr>\n",
       "      <th>1</th>\n",
       "      <td>Spain</td>\n",
       "      <td>Female</td>\n",
       "      <td>41</td>\n",
       "      <td>1</td>\n",
       "      <td>83807.86</td>\n",
       "      <td>1</td>\n",
       "      <td>0</td>\n",
       "      <td>1</td>\n",
       "      <td>112542.58</td>\n",
       "      <td>0</td>\n",
       "    </tr>\n",
       "    <tr>\n",
       "      <th>2</th>\n",
       "      <td>France</td>\n",
       "      <td>Female</td>\n",
       "      <td>42</td>\n",
       "      <td>8</td>\n",
       "      <td>159660.80</td>\n",
       "      <td>3</td>\n",
       "      <td>1</td>\n",
       "      <td>0</td>\n",
       "      <td>113931.57</td>\n",
       "      <td>1</td>\n",
       "    </tr>\n",
       "    <tr>\n",
       "      <th>3</th>\n",
       "      <td>France</td>\n",
       "      <td>Female</td>\n",
       "      <td>39</td>\n",
       "      <td>1</td>\n",
       "      <td>0.00</td>\n",
       "      <td>2</td>\n",
       "      <td>0</td>\n",
       "      <td>0</td>\n",
       "      <td>93826.63</td>\n",
       "      <td>0</td>\n",
       "    </tr>\n",
       "    <tr>\n",
       "      <th>4</th>\n",
       "      <td>Spain</td>\n",
       "      <td>Female</td>\n",
       "      <td>43</td>\n",
       "      <td>2</td>\n",
       "      <td>125510.82</td>\n",
       "      <td>1</td>\n",
       "      <td>1</td>\n",
       "      <td>1</td>\n",
       "      <td>79084.10</td>\n",
       "      <td>0</td>\n",
       "    </tr>\n",
       "    <tr>\n",
       "      <th>...</th>\n",
       "      <td>...</td>\n",
       "      <td>...</td>\n",
       "      <td>...</td>\n",
       "      <td>...</td>\n",
       "      <td>...</td>\n",
       "      <td>...</td>\n",
       "      <td>...</td>\n",
       "      <td>...</td>\n",
       "      <td>...</td>\n",
       "      <td>...</td>\n",
       "    </tr>\n",
       "    <tr>\n",
       "      <th>9995</th>\n",
       "      <td>France</td>\n",
       "      <td>Male</td>\n",
       "      <td>39</td>\n",
       "      <td>5</td>\n",
       "      <td>0.00</td>\n",
       "      <td>2</td>\n",
       "      <td>1</td>\n",
       "      <td>0</td>\n",
       "      <td>96270.64</td>\n",
       "      <td>0</td>\n",
       "    </tr>\n",
       "    <tr>\n",
       "      <th>9996</th>\n",
       "      <td>France</td>\n",
       "      <td>Male</td>\n",
       "      <td>35</td>\n",
       "      <td>10</td>\n",
       "      <td>57369.61</td>\n",
       "      <td>1</td>\n",
       "      <td>1</td>\n",
       "      <td>1</td>\n",
       "      <td>101699.77</td>\n",
       "      <td>0</td>\n",
       "    </tr>\n",
       "    <tr>\n",
       "      <th>9997</th>\n",
       "      <td>France</td>\n",
       "      <td>Female</td>\n",
       "      <td>36</td>\n",
       "      <td>7</td>\n",
       "      <td>0.00</td>\n",
       "      <td>1</td>\n",
       "      <td>0</td>\n",
       "      <td>1</td>\n",
       "      <td>42085.58</td>\n",
       "      <td>1</td>\n",
       "    </tr>\n",
       "    <tr>\n",
       "      <th>9998</th>\n",
       "      <td>Germany</td>\n",
       "      <td>Male</td>\n",
       "      <td>42</td>\n",
       "      <td>3</td>\n",
       "      <td>75075.31</td>\n",
       "      <td>2</td>\n",
       "      <td>1</td>\n",
       "      <td>0</td>\n",
       "      <td>92888.52</td>\n",
       "      <td>1</td>\n",
       "    </tr>\n",
       "    <tr>\n",
       "      <th>9999</th>\n",
       "      <td>France</td>\n",
       "      <td>Female</td>\n",
       "      <td>28</td>\n",
       "      <td>4</td>\n",
       "      <td>130142.79</td>\n",
       "      <td>1</td>\n",
       "      <td>1</td>\n",
       "      <td>0</td>\n",
       "      <td>38190.78</td>\n",
       "      <td>0</td>\n",
       "    </tr>\n",
       "  </tbody>\n",
       "</table>\n",
       "<p>10000 rows × 10 columns</p>\n",
       "</div>"
      ],
      "text/plain": [
       "     Geography  Gender  Age  Tenure    Balance  NumOfProducts  HasCrCard  \\\n",
       "0       France  Female   42       2       0.00              1          1   \n",
       "1        Spain  Female   41       1   83807.86              1          0   \n",
       "2       France  Female   42       8  159660.80              3          1   \n",
       "3       France  Female   39       1       0.00              2          0   \n",
       "4        Spain  Female   43       2  125510.82              1          1   \n",
       "...        ...     ...  ...     ...        ...            ...        ...   \n",
       "9995    France    Male   39       5       0.00              2          1   \n",
       "9996    France    Male   35      10   57369.61              1          1   \n",
       "9997    France  Female   36       7       0.00              1          0   \n",
       "9998   Germany    Male   42       3   75075.31              2          1   \n",
       "9999    France  Female   28       4  130142.79              1          1   \n",
       "\n",
       "      IsActiveMember  EstimatedSalary  Exited  \n",
       "0                  1        101348.88       1  \n",
       "1                  1        112542.58       0  \n",
       "2                  0        113931.57       1  \n",
       "3                  0         93826.63       0  \n",
       "4                  1         79084.10       0  \n",
       "...              ...              ...     ...  \n",
       "9995               0         96270.64       0  \n",
       "9996               1        101699.77       0  \n",
       "9997               1         42085.58       1  \n",
       "9998               0         92888.52       1  \n",
       "9999               0         38190.78       0  \n",
       "\n",
       "[10000 rows x 10 columns]"
      ]
     },
     "execution_count": 4,
     "metadata": {},
     "output_type": "execute_result"
    }
   ],
   "source": [
    "df.drop(['RowNumber', 'CustomerId', 'Surname', 'CreditScore'], axis=1, inplace=True)\n",
    "df"
   ]
  },
  {
   "cell_type": "code",
   "execution_count": 5,
   "id": "715080fb",
   "metadata": {},
   "outputs": [
    {
     "data": {
      "text/plain": [
       "(10000, 10)"
      ]
     },
     "execution_count": 5,
     "metadata": {},
     "output_type": "execute_result"
    }
   ],
   "source": [
    "df.shape"
   ]
  },
  {
   "cell_type": "markdown",
   "id": "a158b591",
   "metadata": {},
   "source": [
    "## 2. Select Particular Columns While Reading\n",
    "\n",
    "`drop` 함수를 사용하는 대신 애초에 데이터를 불러올 때부터 특정 column만을 불러올 수 있습니다. 모든 Column의 이름을 사전에 알고있다면 사후에 `drop`하는 것보다 사전에 필요한 column만을 불러오는 것이 효율적입니다."
   ]
  },
  {
   "cell_type": "code",
   "execution_count": 6,
   "id": "fb6b932b",
   "metadata": {},
   "outputs": [
    {
     "data": {
      "text/html": [
       "<div>\n",
       "<style scoped>\n",
       "    .dataframe tbody tr th:only-of-type {\n",
       "        vertical-align: middle;\n",
       "    }\n",
       "\n",
       "    .dataframe tbody tr th {\n",
       "        vertical-align: top;\n",
       "    }\n",
       "\n",
       "    .dataframe thead th {\n",
       "        text-align: right;\n",
       "    }\n",
       "</style>\n",
       "<table border=\"1\" class=\"dataframe\">\n",
       "  <thead>\n",
       "    <tr style=\"text-align: right;\">\n",
       "      <th></th>\n",
       "      <th>Gender</th>\n",
       "      <th>Age</th>\n",
       "      <th>Tenure</th>\n",
       "      <th>Balance</th>\n",
       "    </tr>\n",
       "  </thead>\n",
       "  <tbody>\n",
       "    <tr>\n",
       "      <th>0</th>\n",
       "      <td>Female</td>\n",
       "      <td>42</td>\n",
       "      <td>2</td>\n",
       "      <td>0.00</td>\n",
       "    </tr>\n",
       "    <tr>\n",
       "      <th>1</th>\n",
       "      <td>Female</td>\n",
       "      <td>41</td>\n",
       "      <td>1</td>\n",
       "      <td>83807.86</td>\n",
       "    </tr>\n",
       "    <tr>\n",
       "      <th>2</th>\n",
       "      <td>Female</td>\n",
       "      <td>42</td>\n",
       "      <td>8</td>\n",
       "      <td>159660.80</td>\n",
       "    </tr>\n",
       "    <tr>\n",
       "      <th>3</th>\n",
       "      <td>Female</td>\n",
       "      <td>39</td>\n",
       "      <td>1</td>\n",
       "      <td>0.00</td>\n",
       "    </tr>\n",
       "    <tr>\n",
       "      <th>4</th>\n",
       "      <td>Female</td>\n",
       "      <td>43</td>\n",
       "      <td>2</td>\n",
       "      <td>125510.82</td>\n",
       "    </tr>\n",
       "    <tr>\n",
       "      <th>...</th>\n",
       "      <td>...</td>\n",
       "      <td>...</td>\n",
       "      <td>...</td>\n",
       "      <td>...</td>\n",
       "    </tr>\n",
       "    <tr>\n",
       "      <th>9995</th>\n",
       "      <td>Male</td>\n",
       "      <td>39</td>\n",
       "      <td>5</td>\n",
       "      <td>0.00</td>\n",
       "    </tr>\n",
       "    <tr>\n",
       "      <th>9996</th>\n",
       "      <td>Male</td>\n",
       "      <td>35</td>\n",
       "      <td>10</td>\n",
       "      <td>57369.61</td>\n",
       "    </tr>\n",
       "    <tr>\n",
       "      <th>9997</th>\n",
       "      <td>Female</td>\n",
       "      <td>36</td>\n",
       "      <td>7</td>\n",
       "      <td>0.00</td>\n",
       "    </tr>\n",
       "    <tr>\n",
       "      <th>9998</th>\n",
       "      <td>Male</td>\n",
       "      <td>42</td>\n",
       "      <td>3</td>\n",
       "      <td>75075.31</td>\n",
       "    </tr>\n",
       "    <tr>\n",
       "      <th>9999</th>\n",
       "      <td>Female</td>\n",
       "      <td>28</td>\n",
       "      <td>4</td>\n",
       "      <td>130142.79</td>\n",
       "    </tr>\n",
       "  </tbody>\n",
       "</table>\n",
       "<p>10000 rows × 4 columns</p>\n",
       "</div>"
      ],
      "text/plain": [
       "      Gender  Age  Tenure    Balance\n",
       "0     Female   42       2       0.00\n",
       "1     Female   41       1   83807.86\n",
       "2     Female   42       8  159660.80\n",
       "3     Female   39       1       0.00\n",
       "4     Female   43       2  125510.82\n",
       "...      ...  ...     ...        ...\n",
       "9995    Male   39       5       0.00\n",
       "9996    Male   35      10   57369.61\n",
       "9997  Female   36       7       0.00\n",
       "9998    Male   42       3   75075.31\n",
       "9999  Female   28       4  130142.79\n",
       "\n",
       "[10000 rows x 4 columns]"
      ]
     },
     "execution_count": 6,
     "metadata": {},
     "output_type": "execute_result"
    }
   ],
   "source": [
    "df_spec = pd.read_csv(\"./data/Churn_Modelling.csv\", usecols=['Gender', 'Age', 'Tenure', 'Balance'])\n",
    "df_spec"
   ]
  },
  {
   "cell_type": "markdown",
   "id": "f6117add",
   "metadata": {},
   "source": [
    "## 3. Reading a Part of the Dataframe\n",
    "\n",
    "`read_csv` 함수는 데이터의 특정 부분만을 읽어올 수 있도록 만들어져있습니다.\n",
    "- nrows : 위에서부터 n개의 데이터를 불러옵니다.\n",
    "- skiprows : 위에서부터 n개를 스킵하고 그 이후의 데이터를 불러옵니다."
   ]
  },
  {
   "cell_type": "code",
   "execution_count": 7,
   "id": "42718f89",
   "metadata": {},
   "outputs": [
    {
     "data": {
      "text/plain": [
       "(5000, 14)"
      ]
     },
     "execution_count": 7,
     "metadata": {},
     "output_type": "execute_result"
    }
   ],
   "source": [
    "df_partial = pd.read_csv(\"./data/Churn_Modelling.csv\", nrows=5000)\n",
    "\n",
    "df_partial.shape"
   ]
  },
  {
   "cell_type": "code",
   "execution_count": 8,
   "id": "7e0376d6",
   "metadata": {
    "scrolled": true
   },
   "outputs": [
    {
     "data": {
      "text/plain": [
       "(6000, 14)"
      ]
     },
     "execution_count": 8,
     "metadata": {},
     "output_type": "execute_result"
    }
   ],
   "source": [
    "df_partial1 = pd.read_csv(\"./data/Churn_Modelling.csv\", skiprows=4000)\n",
    "\n",
    "df_partial1.shape"
   ]
  },
  {
   "cell_type": "markdown",
   "id": "e9f4b39e",
   "metadata": {},
   "source": [
    "## 4. Sample\n",
    "\n",
    "- n : sample로 추출할 row의 개수\n",
    "- frac : sample size의 전체 데이터 프레임에서의 비율\n",
    "\n",
    "`n`과 `frac`을 통해 sample을 추출할 수 있습니다."
   ]
  },
  {
   "cell_type": "code",
   "execution_count": 9,
   "id": "e95c79e5",
   "metadata": {},
   "outputs": [],
   "source": [
    "df_sample = df.sample(n=1000)\n",
    "df_sample2 = df.sample(frac=0.1)"
   ]
  },
  {
   "cell_type": "code",
   "execution_count": 10,
   "id": "b6b8ceea",
   "metadata": {},
   "outputs": [
    {
     "data": {
      "text/plain": [
       "(1000, 10)"
      ]
     },
     "execution_count": 10,
     "metadata": {},
     "output_type": "execute_result"
    }
   ],
   "source": [
    "df_sample.shape"
   ]
  },
  {
   "cell_type": "code",
   "execution_count": 11,
   "id": "c4112274",
   "metadata": {},
   "outputs": [
    {
     "data": {
      "text/plain": [
       "(1000, 10)"
      ]
     },
     "execution_count": 11,
     "metadata": {},
     "output_type": "execute_result"
    }
   ],
   "source": [
    "df_sample2.shape"
   ]
  },
  {
   "cell_type": "markdown",
   "id": "2d234e9c",
   "metadata": {},
   "source": [
    "## 5. Checking the missing values\n",
    "\n",
    "`isna` 함수를 통해 결측치를 반환할 수 있습니다.\n",
    "`isna`와 `sum`함수를 함께 사용하여 각각의 column에 결측치의 개수를 반환할 수 있습니다."
   ]
  },
  {
   "cell_type": "code",
   "execution_count": 12,
   "id": "894e6336",
   "metadata": {},
   "outputs": [
    {
     "data": {
      "text/plain": [
       "Geography          0\n",
       "Gender             0\n",
       "Age                0\n",
       "Tenure             0\n",
       "Balance            0\n",
       "NumOfProducts      0\n",
       "HasCrCard          0\n",
       "IsActiveMember     0\n",
       "EstimatedSalary    0\n",
       "Exited             0\n",
       "dtype: int64"
      ]
     },
     "execution_count": 12,
     "metadata": {},
     "output_type": "execute_result"
    }
   ],
   "source": [
    "df.isna().sum()"
   ]
  },
  {
   "cell_type": "markdown",
   "id": "852abbc8",
   "metadata": {},
   "source": [
    "## 6. Adding Missing Values Using loc & iloc\n",
    "\n",
    "- loc : label을 통해 선택\n",
    "- iloc : index를 통해 선택"
   ]
  },
  {
   "cell_type": "code",
   "execution_count": 13,
   "id": "3fb2f792",
   "metadata": {},
   "outputs": [],
   "source": [
    "missing_index = np.random.randint(10000, size=20)"
   ]
  },
  {
   "cell_type": "code",
   "execution_count": 14,
   "id": "e90cbd9e",
   "metadata": {},
   "outputs": [],
   "source": [
    "df.loc[missing_index, ['Balance','Geography']] = np.nan"
   ]
  },
  {
   "cell_type": "code",
   "execution_count": 15,
   "id": "b8368ab8",
   "metadata": {},
   "outputs": [],
   "source": [
    "df.iloc[missing_index, -1] = np.nan"
   ]
  },
  {
   "cell_type": "code",
   "execution_count": 16,
   "id": "2e8dee19",
   "metadata": {},
   "outputs": [
    {
     "data": {
      "text/plain": [
       "Geography          20\n",
       "Gender              0\n",
       "Age                 0\n",
       "Tenure              0\n",
       "Balance            20\n",
       "NumOfProducts       0\n",
       "HasCrCard           0\n",
       "IsActiveMember      0\n",
       "EstimatedSalary     0\n",
       "Exited             20\n",
       "dtype: int64"
      ]
     },
     "execution_count": 16,
     "metadata": {},
     "output_type": "execute_result"
    }
   ],
   "source": [
    "df.isna().sum()"
   ]
  },
  {
   "cell_type": "markdown",
   "id": "2ba32a9e",
   "metadata": {},
   "source": [
    "## 7. Filling Missing Values\n",
    "\n",
    "`fillna` 함수는 결측치를 채우는데 사용합니다. `specific value`, `aggregate function`, `previous`와 `next` 값을 결측치를 채우는데 사용할 수 있습니다."
   ]
  },
  {
   "cell_type": "code",
   "execution_count": 17,
   "id": "110345c4",
   "metadata": {},
   "outputs": [
    {
     "data": {
      "text/plain": [
       "France     5009\n",
       "Germany    2501\n",
       "Spain      2470\n",
       "Name: Geography, dtype: int64"
      ]
     },
     "execution_count": 17,
     "metadata": {},
     "output_type": "execute_result"
    }
   ],
   "source": [
    "df['Geography'].value_counts()"
   ]
  },
  {
   "cell_type": "code",
   "execution_count": 18,
   "id": "40c10809",
   "metadata": {},
   "outputs": [],
   "source": [
    "mode = df['Geography'].value_counts().index[0]\n",
    "df['Geography'].fillna(value=mode, inplace=True)"
   ]
  },
  {
   "cell_type": "code",
   "execution_count": 19,
   "id": "cd3bf8ec",
   "metadata": {},
   "outputs": [],
   "source": [
    "avg = df['Balance'].mean()\n",
    "df['Balance'].fillna(value=avg, inplace=True)"
   ]
  },
  {
   "cell_type": "code",
   "execution_count": 20,
   "id": "05e7c0d4",
   "metadata": {},
   "outputs": [
    {
     "data": {
      "text/plain": [
       "0"
      ]
     },
     "execution_count": 20,
     "metadata": {},
     "output_type": "execute_result"
    }
   ],
   "source": [
    "df.Balance.isna().sum()"
   ]
  },
  {
   "cell_type": "markdown",
   "id": "638ffa38",
   "metadata": {},
   "source": [
    "## 8. Dropping Missing Values\n",
    "\n",
    "`dropna` 함수를 통해 결측치를 drop할 수 있습니다. \n",
    "\n",
    "- `axis=0`의 경우 결측치가 존재하는 행을 drop합니다.\n",
    "- `axis=1`의 경우 결측치가 존재하는 열을 drop합니다.\n",
    "\n",
    "`how` 파라미터를 통해 어떻게 drop할 것인지 결정할 수 있습니다."
   ]
  },
  {
   "cell_type": "code",
   "execution_count": 21,
   "id": "7f9869a6",
   "metadata": {},
   "outputs": [
    {
     "data": {
      "text/plain": [
       "Geography          0\n",
       "Gender             0\n",
       "Age                0\n",
       "Tenure             0\n",
       "Balance            0\n",
       "NumOfProducts      0\n",
       "HasCrCard          0\n",
       "IsActiveMember     0\n",
       "EstimatedSalary    0\n",
       "Exited             0\n",
       "dtype: int64"
      ]
     },
     "execution_count": 21,
     "metadata": {},
     "output_type": "execute_result"
    }
   ],
   "source": [
    "df.dropna(axis=0, how='any', inplace=True)\n",
    "df.isna().sum()"
   ]
  },
  {
   "cell_type": "markdown",
   "id": "45a863c3",
   "metadata": {},
   "source": [
    "## 9. Select rows based on conditions\n",
    "\n",
    "조건에 따라 row를 선택할 수 있습니다."
   ]
  },
  {
   "cell_type": "code",
   "execution_count": 22,
   "id": "1d253e31",
   "metadata": {},
   "outputs": [
    {
     "data": {
      "text/plain": [
       "France    809\n",
       "Name: Geography, dtype: int64"
      ]
     },
     "execution_count": 22,
     "metadata": {},
     "output_type": "execute_result"
    }
   ],
   "source": [
    "france_churn = df[(df.Geography == 'France') & (df.Exited == 1)]\n",
    "france_churn.Geography.value_counts()"
   ]
  },
  {
   "cell_type": "markdown",
   "id": "ee146b7f",
   "metadata": {},
   "source": [
    "## 10. Describing the conditions with Query\n",
    "\n",
    "위의 작업을 Query를 통해 행할 수도 있습니다. Query에 익숙해지면 데이터에 조건을 걸기 편해집니다."
   ]
  },
  {
   "cell_type": "code",
   "execution_count": 23,
   "id": "4c5c3117",
   "metadata": {},
   "outputs": [
    {
     "name": "stdout",
     "output_type": "stream",
     "text": [
      "99986.98\n",
      "80001.23\n"
     ]
    }
   ],
   "source": [
    "df2 = df.query('80000 < Balance < 100000')\n",
    "print(df2.Balance.max())\n",
    "print(df2.Balance.min())"
   ]
  },
  {
   "cell_type": "code",
   "execution_count": 24,
   "id": "9708764a",
   "metadata": {},
   "outputs": [
    {
     "data": {
      "text/plain": [
       "<AxesSubplot:ylabel='Frequency'>"
      ]
     },
     "execution_count": 24,
     "metadata": {},
     "output_type": "execute_result"
    },
    {
     "data": {
      "image/png": "[encoded data removed]",
      "text/plain": [
       "<Figure size 576x360 with 1 Axes>"
      ]
     },
     "metadata": {
      "needs_background": "light"
     },
     "output_type": "display_data"
    }
   ],
   "source": [
    "df2['Balance'].plot(kind='hist', figsize=(8,5))"
   ]
  },
  {
   "cell_type": "markdown",
   "id": "8e776c55",
   "metadata": {},
   "source": [
    "## 11. Describing the conditions with isin\n",
    "\n",
    "조건문은 다양한 값을 가질수도 있습니다. 특정한 값을 가지는 조건을 걸고 싶을 때 `isin`함수를 사용하는 것이 효과적입니다. 원하는 값을 지정함을 통해 원하는 행을 추출할 수 있습니다."
   ]
  },
  {
   "cell_type": "code",
   "execution_count": 25,
   "id": "20b3ae37",
   "metadata": {},
   "outputs": [
    {
     "data": {
      "text/html": [
       "<div>\n",
       "<style scoped>\n",
       "    .dataframe tbody tr th:only-of-type {\n",
       "        vertical-align: middle;\n",
       "    }\n",
       "\n",
       "    .dataframe tbody tr th {\n",
       "        vertical-align: top;\n",
       "    }\n",
       "\n",
       "    .dataframe thead th {\n",
       "        text-align: right;\n",
       "    }\n",
       "</style>\n",
       "<table border=\"1\" class=\"dataframe\">\n",
       "  <thead>\n",
       "    <tr style=\"text-align: right;\">\n",
       "      <th></th>\n",
       "      <th>Geography</th>\n",
       "      <th>Gender</th>\n",
       "      <th>Age</th>\n",
       "      <th>Tenure</th>\n",
       "      <th>Balance</th>\n",
       "      <th>NumOfProducts</th>\n",
       "      <th>HasCrCard</th>\n",
       "      <th>IsActiveMember</th>\n",
       "      <th>EstimatedSalary</th>\n",
       "      <th>Exited</th>\n",
       "    </tr>\n",
       "  </thead>\n",
       "  <tbody>\n",
       "    <tr>\n",
       "      <th>7</th>\n",
       "      <td>Germany</td>\n",
       "      <td>Female</td>\n",
       "      <td>29</td>\n",
       "      <td>4</td>\n",
       "      <td>115046.74</td>\n",
       "      <td>4</td>\n",
       "      <td>1</td>\n",
       "      <td>0</td>\n",
       "      <td>119346.88</td>\n",
       "      <td>1.0</td>\n",
       "    </tr>\n",
       "    <tr>\n",
       "      <th>8</th>\n",
       "      <td>France</td>\n",
       "      <td>Male</td>\n",
       "      <td>44</td>\n",
       "      <td>4</td>\n",
       "      <td>142051.07</td>\n",
       "      <td>2</td>\n",
       "      <td>0</td>\n",
       "      <td>1</td>\n",
       "      <td>74940.50</td>\n",
       "      <td>0.0</td>\n",
       "    </tr>\n",
       "    <tr>\n",
       "      <th>10</th>\n",
       "      <td>France</td>\n",
       "      <td>Male</td>\n",
       "      <td>31</td>\n",
       "      <td>6</td>\n",
       "      <td>102016.72</td>\n",
       "      <td>2</td>\n",
       "      <td>0</td>\n",
       "      <td>0</td>\n",
       "      <td>80181.12</td>\n",
       "      <td>0.0</td>\n",
       "    </tr>\n",
       "  </tbody>\n",
       "</table>\n",
       "</div>"
      ],
      "text/plain": [
       "   Geography  Gender  Age  Tenure    Balance  NumOfProducts  HasCrCard  \\\n",
       "7    Germany  Female   29       4  115046.74              4          1   \n",
       "8     France    Male   44       4  142051.07              2          0   \n",
       "10    France    Male   31       6  102016.72              2          0   \n",
       "\n",
       "    IsActiveMember  EstimatedSalary  Exited  \n",
       "7                0        119346.88     1.0  \n",
       "8                1         74940.50     0.0  \n",
       "10               0         80181.12     0.0  "
      ]
     },
     "execution_count": 25,
     "metadata": {},
     "output_type": "execute_result"
    }
   ],
   "source": [
    "df[df['Tenure'].isin([4,6,9,10])][:3]"
   ]
  },
  {
   "cell_type": "markdown",
   "id": "9742ea53",
   "metadata": {},
   "source": [
    "## 12. Groupby Function\n",
    "\n",
    "`pandas`의 `groupby` 함수는 데이터의 전체적인 모습을 알 수 있는 쉽고 강력한 함수입니다. column간의 관계를 통해 원하는 column의 값을 추출할 수 있습니다.\n",
    "\n",
    "```python\n",
    "# Geography, Gender, Exited에 대해 Geography, Gender로 그룹에 대해 exited의 평균을 계산합니다.\n",
    "```"
   ]
  },
  {
   "cell_type": "code",
   "execution_count": 26,
   "id": "07703a36",
   "metadata": {},
   "outputs": [
    {
     "data": {
      "text/html": [
       "<div>\n",
       "<style scoped>\n",
       "    .dataframe tbody tr th:only-of-type {\n",
       "        vertical-align: middle;\n",
       "    }\n",
       "\n",
       "    .dataframe tbody tr th {\n",
       "        vertical-align: top;\n",
       "    }\n",
       "\n",
       "    .dataframe thead th {\n",
       "        text-align: right;\n",
       "    }\n",
       "</style>\n",
       "<table border=\"1\" class=\"dataframe\">\n",
       "  <thead>\n",
       "    <tr style=\"text-align: right;\">\n",
       "      <th></th>\n",
       "      <th></th>\n",
       "      <th>Exited</th>\n",
       "    </tr>\n",
       "    <tr>\n",
       "      <th>Geography</th>\n",
       "      <th>Gender</th>\n",
       "      <th></th>\n",
       "    </tr>\n",
       "  </thead>\n",
       "  <tbody>\n",
       "    <tr>\n",
       "      <th rowspan=\"2\" valign=\"top\">France</th>\n",
       "      <th>Female</th>\n",
       "      <td>0.203097</td>\n",
       "    </tr>\n",
       "    <tr>\n",
       "      <th>Male</th>\n",
       "      <td>0.127319</td>\n",
       "    </tr>\n",
       "    <tr>\n",
       "      <th rowspan=\"2\" valign=\"top\">Germany</th>\n",
       "      <th>Female</th>\n",
       "      <td>0.375421</td>\n",
       "    </tr>\n",
       "    <tr>\n",
       "      <th>Male</th>\n",
       "      <td>0.278751</td>\n",
       "    </tr>\n",
       "    <tr>\n",
       "      <th rowspan=\"2\" valign=\"top\">Spain</th>\n",
       "      <th>Female</th>\n",
       "      <td>0.211592</td>\n",
       "    </tr>\n",
       "    <tr>\n",
       "      <th>Male</th>\n",
       "      <td>0.131598</td>\n",
       "    </tr>\n",
       "  </tbody>\n",
       "</table>\n",
       "</div>"
      ],
      "text/plain": [
       "                    Exited\n",
       "Geography Gender          \n",
       "France    Female  0.203097\n",
       "          Male    0.127319\n",
       "Germany   Female  0.375421\n",
       "          Male    0.278751\n",
       "Spain     Female  0.211592\n",
       "          Male    0.131598"
      ]
     },
     "execution_count": 26,
     "metadata": {},
     "output_type": "execute_result"
    }
   ],
   "source": [
    "df[['Geography','Gender','Exited']].groupby(['Geography','Gender']).mean()"
   ]
  },
  {
   "cell_type": "markdown",
   "id": "b0801c04",
   "metadata": {},
   "source": [
    "## 13. Applying multiple aggregate functions with groupby\n",
    "\n",
    "`agg` 함수는 group에 대해 여러개의 `agg` 함수를 동시에 적용할 수 있습니다.\n",
    "계산하고자 하는 함수를 list에 넣어 argument로 사용할 수 있습니다."
   ]
  },
  {
   "cell_type": "code",
   "execution_count": 27,
   "id": "ada045be",
   "metadata": {},
   "outputs": [
    {
     "data": {
      "text/html": [
       "<div>\n",
       "<style scoped>\n",
       "    .dataframe tbody tr th:only-of-type {\n",
       "        vertical-align: middle;\n",
       "    }\n",
       "\n",
       "    .dataframe tbody tr th {\n",
       "        vertical-align: top;\n",
       "    }\n",
       "\n",
       "    .dataframe thead tr th {\n",
       "        text-align: left;\n",
       "    }\n",
       "\n",
       "    .dataframe thead tr:last-of-type th {\n",
       "        text-align: right;\n",
       "    }\n",
       "</style>\n",
       "<table border=\"1\" class=\"dataframe\">\n",
       "  <thead>\n",
       "    <tr>\n",
       "      <th></th>\n",
       "      <th></th>\n",
       "      <th colspan=\"2\" halign=\"left\">Exited</th>\n",
       "    </tr>\n",
       "    <tr>\n",
       "      <th></th>\n",
       "      <th></th>\n",
       "      <th>mean</th>\n",
       "      <th>count</th>\n",
       "    </tr>\n",
       "    <tr>\n",
       "      <th>Geography</th>\n",
       "      <th>Gender</th>\n",
       "      <th></th>\n",
       "      <th></th>\n",
       "    </tr>\n",
       "  </thead>\n",
       "  <tbody>\n",
       "    <tr>\n",
       "      <th rowspan=\"2\" valign=\"top\">France</th>\n",
       "      <th>Female</th>\n",
       "      <td>0.203097</td>\n",
       "      <td>2260</td>\n",
       "    </tr>\n",
       "    <tr>\n",
       "      <th>Male</th>\n",
       "      <td>0.127319</td>\n",
       "      <td>2749</td>\n",
       "    </tr>\n",
       "    <tr>\n",
       "      <th rowspan=\"2\" valign=\"top\">Germany</th>\n",
       "      <th>Female</th>\n",
       "      <td>0.375421</td>\n",
       "      <td>1188</td>\n",
       "    </tr>\n",
       "    <tr>\n",
       "      <th>Male</th>\n",
       "      <td>0.278751</td>\n",
       "      <td>1313</td>\n",
       "    </tr>\n",
       "    <tr>\n",
       "      <th rowspan=\"2\" valign=\"top\">Spain</th>\n",
       "      <th>Female</th>\n",
       "      <td>0.211592</td>\n",
       "      <td>1087</td>\n",
       "    </tr>\n",
       "    <tr>\n",
       "      <th>Male</th>\n",
       "      <td>0.131598</td>\n",
       "      <td>1383</td>\n",
       "    </tr>\n",
       "  </tbody>\n",
       "</table>\n",
       "</div>"
      ],
      "text/plain": [
       "                    Exited      \n",
       "                      mean count\n",
       "Geography Gender                \n",
       "France    Female  0.203097  2260\n",
       "          Male    0.127319  2749\n",
       "Germany   Female  0.375421  1188\n",
       "          Male    0.278751  1313\n",
       "Spain     Female  0.211592  1087\n",
       "          Male    0.131598  1383"
      ]
     },
     "execution_count": 27,
     "metadata": {},
     "output_type": "execute_result"
    }
   ],
   "source": [
    "df[['Geography','Gender','Exited']].groupby(['Geography','Gender']).agg(['mean','count'])"
   ]
  },
  {
   "cell_type": "markdown",
   "id": "07f189e5",
   "metadata": {},
   "source": [
    "## 14. Applying different aggregate functions to different groups\n",
    "\n",
    "같은 함수를 모든 column에 대해 적용할 필요는 없습니다. \n",
    "\n",
    "예를 들어, 우리가 각각의 나라에 대해 balance의 평균값과 churned customer의 total number를 알고 싶을 때 특정 column에 대해 특정 함수를 적용함이 가능합니다. dictionary의 형태를 통해 어떤 함수를 어떤 column에 사용할지 특정합니다."
   ]
  },
  {
   "cell_type": "code",
   "execution_count": 28,
   "id": "0ab060ce",
   "metadata": {},
   "outputs": [
    {
     "data": {
      "text/html": [
       "<div>\n",
       "<style scoped>\n",
       "    .dataframe tbody tr th:only-of-type {\n",
       "        vertical-align: middle;\n",
       "    }\n",
       "\n",
       "    .dataframe tbody tr th {\n",
       "        vertical-align: top;\n",
       "    }\n",
       "\n",
       "    .dataframe thead th {\n",
       "        text-align: right;\n",
       "    }\n",
       "</style>\n",
       "<table border=\"1\" class=\"dataframe\">\n",
       "  <thead>\n",
       "    <tr style=\"text-align: right;\">\n",
       "      <th></th>\n",
       "      <th># of churned customers</th>\n",
       "      <th>Average Balance of Customers</th>\n",
       "    </tr>\n",
       "    <tr>\n",
       "      <th>Geography</th>\n",
       "      <th></th>\n",
       "      <th></th>\n",
       "    </tr>\n",
       "  </thead>\n",
       "  <tbody>\n",
       "    <tr>\n",
       "      <th>France</th>\n",
       "      <td>809.0</td>\n",
       "      <td>62096.724733</td>\n",
       "    </tr>\n",
       "    <tr>\n",
       "      <th>Germany</th>\n",
       "      <td>812.0</td>\n",
       "      <td>119712.867113</td>\n",
       "    </tr>\n",
       "    <tr>\n",
       "      <th>Spain</th>\n",
       "      <td>412.0</td>\n",
       "      <td>61772.726429</td>\n",
       "    </tr>\n",
       "  </tbody>\n",
       "</table>\n",
       "</div>"
      ],
      "text/plain": [
       "           # of churned customers  Average Balance of Customers\n",
       "Geography                                                      \n",
       "France                      809.0                  62096.724733\n",
       "Germany                     812.0                 119712.867113\n",
       "Spain                       412.0                  61772.726429"
      ]
     },
     "execution_count": 28,
     "metadata": {},
     "output_type": "execute_result"
    }
   ],
   "source": [
    "df_summary = df[['Geography','Exited','Balance']].groupby('Geography')\\\n",
    ".agg({'Exited':'sum', 'Balance':'mean'})\n",
    "\n",
    "df_summary.rename(columns={'Exited':'# of churned customers', 'Balance':'Average Balance of Customers'},inplace=True)\n",
    "df_summary"
   ]
  },
  {
   "cell_type": "code",
   "execution_count": 29,
   "id": "103835f1",
   "metadata": {},
   "outputs": [
    {
     "data": {
      "text/html": [
       "<div>\n",
       "<style scoped>\n",
       "    .dataframe tbody tr th:only-of-type {\n",
       "        vertical-align: middle;\n",
       "    }\n",
       "\n",
       "    .dataframe tbody tr th {\n",
       "        vertical-align: top;\n",
       "    }\n",
       "\n",
       "    .dataframe thead th {\n",
       "        text-align: right;\n",
       "    }\n",
       "</style>\n",
       "<table border=\"1\" class=\"dataframe\">\n",
       "  <thead>\n",
       "    <tr style=\"text-align: right;\">\n",
       "      <th></th>\n",
       "      <th>Number_of_churned_customers</th>\n",
       "      <th>Average_balance_of_customers</th>\n",
       "    </tr>\n",
       "    <tr>\n",
       "      <th>Geography</th>\n",
       "      <th></th>\n",
       "      <th></th>\n",
       "    </tr>\n",
       "  </thead>\n",
       "  <tbody>\n",
       "    <tr>\n",
       "      <th>France</th>\n",
       "      <td>809.0</td>\n",
       "      <td>62096.724733</td>\n",
       "    </tr>\n",
       "    <tr>\n",
       "      <th>Germany</th>\n",
       "      <td>812.0</td>\n",
       "      <td>119712.867113</td>\n",
       "    </tr>\n",
       "    <tr>\n",
       "      <th>Spain</th>\n",
       "      <td>412.0</td>\n",
       "      <td>61772.726429</td>\n",
       "    </tr>\n",
       "  </tbody>\n",
       "</table>\n",
       "</div>"
      ],
      "text/plain": [
       "           Number_of_churned_customers  Average_balance_of_customers\n",
       "Geography                                                           \n",
       "France                           809.0                  62096.724733\n",
       "Germany                          812.0                 119712.867113\n",
       "Spain                            412.0                  61772.726429"
      ]
     },
     "execution_count": 29,
     "metadata": {},
     "output_type": "execute_result"
    }
   ],
   "source": [
    "df_summary = df[['Geography','Exited','Balance']].groupby('Geography')\\\n",
    ".agg(\n",
    "Number_of_churned_customers = pd.NamedAgg('Exited', 'sum'),\n",
    "Average_balance_of_customers = pd.NamedAgg('Balance', 'mean')\n",
    ")\n",
    "\n",
    "df_summary"
   ]
  },
  {
   "cell_type": "markdown",
   "id": "059800a2",
   "metadata": {},
   "source": [
    "## 15. Reset the index\n",
    "\n",
    "데이터 프레임의 `index`는 `groupby`를 적용한 경우 group의 이름을 반환합니다. 따라서 `reset_index` 함수를 통해 그룹 `index`를 변환합니다."
   ]
  },
  {
   "cell_type": "code",
   "execution_count": 30,
   "id": "1202243f",
   "metadata": {},
   "outputs": [
    {
     "data": {
      "text/html": [
       "<div>\n",
       "<style scoped>\n",
       "    .dataframe tbody tr th:only-of-type {\n",
       "        vertical-align: middle;\n",
       "    }\n",
       "\n",
       "    .dataframe tbody tr th {\n",
       "        vertical-align: top;\n",
       "    }\n",
       "\n",
       "    .dataframe thead th {\n",
       "        text-align: right;\n",
       "    }\n",
       "</style>\n",
       "<table border=\"1\" class=\"dataframe\">\n",
       "  <thead>\n",
       "    <tr style=\"text-align: right;\">\n",
       "      <th></th>\n",
       "      <th></th>\n",
       "      <th>Balance</th>\n",
       "    </tr>\n",
       "    <tr>\n",
       "      <th>Geography</th>\n",
       "      <th>Exited</th>\n",
       "      <th></th>\n",
       "    </tr>\n",
       "  </thead>\n",
       "  <tbody>\n",
       "    <tr>\n",
       "      <th rowspan=\"2\" valign=\"top\">France</th>\n",
       "      <th>0.0</th>\n",
       "      <td>60327.697536</td>\n",
       "    </tr>\n",
       "    <tr>\n",
       "      <th>1.0</th>\n",
       "      <td>71280.796712</td>\n",
       "    </tr>\n",
       "    <tr>\n",
       "      <th rowspan=\"2\" valign=\"top\">Germany</th>\n",
       "      <th>0.0</th>\n",
       "      <td>119400.366240</td>\n",
       "    </tr>\n",
       "    <tr>\n",
       "      <th>1.0</th>\n",
       "      <td>120362.884323</td>\n",
       "    </tr>\n",
       "    <tr>\n",
       "      <th rowspan=\"2\" valign=\"top\">Spain</th>\n",
       "      <th>0.0</th>\n",
       "      <td>59645.271822</td>\n",
       "    </tr>\n",
       "    <tr>\n",
       "      <th>1.0</th>\n",
       "      <td>72399.672015</td>\n",
       "    </tr>\n",
       "  </tbody>\n",
       "</table>\n",
       "</div>"
      ],
      "text/plain": [
       "                        Balance\n",
       "Geography Exited               \n",
       "France    0.0      60327.697536\n",
       "          1.0      71280.796712\n",
       "Germany   0.0     119400.366240\n",
       "          1.0     120362.884323\n",
       "Spain     0.0      59645.271822\n",
       "          1.0      72399.672015"
      ]
     },
     "execution_count": 30,
     "metadata": {},
     "output_type": "execute_result"
    }
   ],
   "source": [
    "df_new = df[['Geography','Exited','Balance']]\\\n",
    ".groupby(['Geography','Exited']).mean()\n",
    "\n",
    "df_new"
   ]
  },
  {
   "cell_type": "code",
   "execution_count": 31,
   "id": "b4848843",
   "metadata": {},
   "outputs": [
    {
     "data": {
      "text/html": [
       "<div>\n",
       "<style scoped>\n",
       "    .dataframe tbody tr th:only-of-type {\n",
       "        vertical-align: middle;\n",
       "    }\n",
       "\n",
       "    .dataframe tbody tr th {\n",
       "        vertical-align: top;\n",
       "    }\n",
       "\n",
       "    .dataframe thead th {\n",
       "        text-align: right;\n",
       "    }\n",
       "</style>\n",
       "<table border=\"1\" class=\"dataframe\">\n",
       "  <thead>\n",
       "    <tr style=\"text-align: right;\">\n",
       "      <th></th>\n",
       "      <th>Geography</th>\n",
       "      <th>Exited</th>\n",
       "      <th>Balance</th>\n",
       "    </tr>\n",
       "  </thead>\n",
       "  <tbody>\n",
       "    <tr>\n",
       "      <th>0</th>\n",
       "      <td>France</td>\n",
       "      <td>0.0</td>\n",
       "      <td>60327.697536</td>\n",
       "    </tr>\n",
       "    <tr>\n",
       "      <th>1</th>\n",
       "      <td>France</td>\n",
       "      <td>1.0</td>\n",
       "      <td>71280.796712</td>\n",
       "    </tr>\n",
       "    <tr>\n",
       "      <th>2</th>\n",
       "      <td>Germany</td>\n",
       "      <td>0.0</td>\n",
       "      <td>119400.366240</td>\n",
       "    </tr>\n",
       "    <tr>\n",
       "      <th>3</th>\n",
       "      <td>Germany</td>\n",
       "      <td>1.0</td>\n",
       "      <td>120362.884323</td>\n",
       "    </tr>\n",
       "    <tr>\n",
       "      <th>4</th>\n",
       "      <td>Spain</td>\n",
       "      <td>0.0</td>\n",
       "      <td>59645.271822</td>\n",
       "    </tr>\n",
       "    <tr>\n",
       "      <th>5</th>\n",
       "      <td>Spain</td>\n",
       "      <td>1.0</td>\n",
       "      <td>72399.672015</td>\n",
       "    </tr>\n",
       "  </tbody>\n",
       "</table>\n",
       "</div>"
      ],
      "text/plain": [
       "  Geography  Exited        Balance\n",
       "0    France     0.0   60327.697536\n",
       "1    France     1.0   71280.796712\n",
       "2   Germany     0.0  119400.366240\n",
       "3   Germany     1.0  120362.884323\n",
       "4     Spain     0.0   59645.271822\n",
       "5     Spain     1.0   72399.672015"
      ]
     },
     "execution_count": 31,
     "metadata": {},
     "output_type": "execute_result"
    }
   ],
   "source": [
    "df_new = df_new.reset_index()\n",
    "df_new"
   ]
  },
  {
   "cell_type": "markdown",
   "id": "a89908d1",
   "metadata": {},
   "source": [
    "## 16. Reset the index with a drop\n",
    "\n",
    "어떤 경우에는 index를 reset하는 동시에 기존의 index를 삭제해야하는 경우가 있습니다.\n",
    "\n",
    "아래의 경우 sample이 기존 index의 값을 그대로 가지고 있기에 추출과 동시에 index 삭제를 진행하려면 `index`를 `drop`해주어야 합니다."
   ]
  },
  {
   "cell_type": "code",
   "execution_count": 32,
   "id": "932de782",
   "metadata": {},
   "outputs": [
    {
     "data": {
      "text/html": [
       "<div>\n",
       "<style scoped>\n",
       "    .dataframe tbody tr th:only-of-type {\n",
       "        vertical-align: middle;\n",
       "    }\n",
       "\n",
       "    .dataframe tbody tr th {\n",
       "        vertical-align: top;\n",
       "    }\n",
       "\n",
       "    .dataframe thead th {\n",
       "        text-align: right;\n",
       "    }\n",
       "</style>\n",
       "<table border=\"1\" class=\"dataframe\">\n",
       "  <thead>\n",
       "    <tr style=\"text-align: right;\">\n",
       "      <th></th>\n",
       "      <th>index</th>\n",
       "      <th>Geography</th>\n",
       "      <th>Exited</th>\n",
       "      <th>Balance</th>\n",
       "    </tr>\n",
       "  </thead>\n",
       "  <tbody>\n",
       "    <tr>\n",
       "      <th>0</th>\n",
       "      <td>9244</td>\n",
       "      <td>Germany</td>\n",
       "      <td>0.0</td>\n",
       "      <td>132837.70</td>\n",
       "    </tr>\n",
       "    <tr>\n",
       "      <th>1</th>\n",
       "      <td>2733</td>\n",
       "      <td>France</td>\n",
       "      <td>0.0</td>\n",
       "      <td>131354.25</td>\n",
       "    </tr>\n",
       "    <tr>\n",
       "      <th>2</th>\n",
       "      <td>9121</td>\n",
       "      <td>France</td>\n",
       "      <td>0.0</td>\n",
       "      <td>0.00</td>\n",
       "    </tr>\n",
       "    <tr>\n",
       "      <th>3</th>\n",
       "      <td>2998</td>\n",
       "      <td>France</td>\n",
       "      <td>0.0</td>\n",
       "      <td>142669.93</td>\n",
       "    </tr>\n",
       "    <tr>\n",
       "      <th>4</th>\n",
       "      <td>4269</td>\n",
       "      <td>France</td>\n",
       "      <td>0.0</td>\n",
       "      <td>112610.77</td>\n",
       "    </tr>\n",
       "    <tr>\n",
       "      <th>5</th>\n",
       "      <td>8800</td>\n",
       "      <td>France</td>\n",
       "      <td>0.0</td>\n",
       "      <td>149405.18</td>\n",
       "    </tr>\n",
       "  </tbody>\n",
       "</table>\n",
       "</div>"
      ],
      "text/plain": [
       "   index Geography  Exited    Balance\n",
       "0   9244   Germany     0.0  132837.70\n",
       "1   2733    France     0.0  131354.25\n",
       "2   9121    France     0.0       0.00\n",
       "3   2998    France     0.0  142669.93\n",
       "4   4269    France     0.0  112610.77\n",
       "5   8800    France     0.0  149405.18"
      ]
     },
     "execution_count": 32,
     "metadata": {},
     "output_type": "execute_result"
    }
   ],
   "source": [
    "df[['Geography','Exited','Balance']].sample(n=6).reset_index()"
   ]
  },
  {
   "cell_type": "code",
   "execution_count": 33,
   "id": "3a3078fc",
   "metadata": {},
   "outputs": [
    {
     "data": {
      "text/html": [
       "<div>\n",
       "<style scoped>\n",
       "    .dataframe tbody tr th:only-of-type {\n",
       "        vertical-align: middle;\n",
       "    }\n",
       "\n",
       "    .dataframe tbody tr th {\n",
       "        vertical-align: top;\n",
       "    }\n",
       "\n",
       "    .dataframe thead th {\n",
       "        text-align: right;\n",
       "    }\n",
       "</style>\n",
       "<table border=\"1\" class=\"dataframe\">\n",
       "  <thead>\n",
       "    <tr style=\"text-align: right;\">\n",
       "      <th></th>\n",
       "      <th>Geography</th>\n",
       "      <th>Exited</th>\n",
       "      <th>Balance</th>\n",
       "    </tr>\n",
       "  </thead>\n",
       "  <tbody>\n",
       "    <tr>\n",
       "      <th>0</th>\n",
       "      <td>France</td>\n",
       "      <td>0.0</td>\n",
       "      <td>129596.77</td>\n",
       "    </tr>\n",
       "    <tr>\n",
       "      <th>1</th>\n",
       "      <td>Germany</td>\n",
       "      <td>1.0</td>\n",
       "      <td>115488.52</td>\n",
       "    </tr>\n",
       "    <tr>\n",
       "      <th>2</th>\n",
       "      <td>France</td>\n",
       "      <td>0.0</td>\n",
       "      <td>0.00</td>\n",
       "    </tr>\n",
       "    <tr>\n",
       "      <th>3</th>\n",
       "      <td>Germany</td>\n",
       "      <td>0.0</td>\n",
       "      <td>101744.84</td>\n",
       "    </tr>\n",
       "    <tr>\n",
       "      <th>4</th>\n",
       "      <td>Germany</td>\n",
       "      <td>0.0</td>\n",
       "      <td>112930.28</td>\n",
       "    </tr>\n",
       "    <tr>\n",
       "      <th>5</th>\n",
       "      <td>France</td>\n",
       "      <td>0.0</td>\n",
       "      <td>0.00</td>\n",
       "    </tr>\n",
       "  </tbody>\n",
       "</table>\n",
       "</div>"
      ],
      "text/plain": [
       "  Geography  Exited    Balance\n",
       "0    France     0.0  129596.77\n",
       "1   Germany     1.0  115488.52\n",
       "2    France     0.0       0.00\n",
       "3   Germany     0.0  101744.84\n",
       "4   Germany     0.0  112930.28\n",
       "5    France     0.0       0.00"
      ]
     },
     "execution_count": 33,
     "metadata": {},
     "output_type": "execute_result"
    }
   ],
   "source": [
    "df[['Geography','Exited','Balance']].sample(n=6).reset_index(drop=True)"
   ]
  },
  {
   "cell_type": "markdown",
   "id": "51980743",
   "metadata": {},
   "source": [
    "## 17. Set a particular column as the index\n",
    "\n",
    "`set_index` 함수로 특정 column을 index로 지정할 수 있습니다."
   ]
  },
  {
   "cell_type": "code",
   "execution_count": 34,
   "id": "bc7cd6f6",
   "metadata": {},
   "outputs": [
    {
     "data": {
      "text/html": [
       "<div>\n",
       "<style scoped>\n",
       "    .dataframe tbody tr th:only-of-type {\n",
       "        vertical-align: middle;\n",
       "    }\n",
       "\n",
       "    .dataframe tbody tr th {\n",
       "        vertical-align: top;\n",
       "    }\n",
       "\n",
       "    .dataframe thead th {\n",
       "        text-align: right;\n",
       "    }\n",
       "</style>\n",
       "<table border=\"1\" class=\"dataframe\">\n",
       "  <thead>\n",
       "    <tr style=\"text-align: right;\">\n",
       "      <th></th>\n",
       "      <th>Exited</th>\n",
       "      <th>Balance</th>\n",
       "    </tr>\n",
       "    <tr>\n",
       "      <th>Geography</th>\n",
       "      <th></th>\n",
       "      <th></th>\n",
       "    </tr>\n",
       "  </thead>\n",
       "  <tbody>\n",
       "    <tr>\n",
       "      <th>France</th>\n",
       "      <td>0.0</td>\n",
       "      <td>60327.697536</td>\n",
       "    </tr>\n",
       "    <tr>\n",
       "      <th>France</th>\n",
       "      <td>1.0</td>\n",
       "      <td>71280.796712</td>\n",
       "    </tr>\n",
       "    <tr>\n",
       "      <th>Germany</th>\n",
       "      <td>0.0</td>\n",
       "      <td>119400.366240</td>\n",
       "    </tr>\n",
       "    <tr>\n",
       "      <th>Germany</th>\n",
       "      <td>1.0</td>\n",
       "      <td>120362.884323</td>\n",
       "    </tr>\n",
       "    <tr>\n",
       "      <th>Spain</th>\n",
       "      <td>0.0</td>\n",
       "      <td>59645.271822</td>\n",
       "    </tr>\n",
       "    <tr>\n",
       "      <th>Spain</th>\n",
       "      <td>1.0</td>\n",
       "      <td>72399.672015</td>\n",
       "    </tr>\n",
       "  </tbody>\n",
       "</table>\n",
       "</div>"
      ],
      "text/plain": [
       "           Exited        Balance\n",
       "Geography                       \n",
       "France        0.0   60327.697536\n",
       "France        1.0   71280.796712\n",
       "Germany       0.0  119400.366240\n",
       "Germany       1.0  120362.884323\n",
       "Spain         0.0   59645.271822\n",
       "Spain         1.0   72399.672015"
      ]
     },
     "execution_count": 34,
     "metadata": {},
     "output_type": "execute_result"
    }
   ],
   "source": [
    "df_new.set_index('Geography')"
   ]
  },
  {
   "cell_type": "markdown",
   "id": "8b9ad848",
   "metadata": {},
   "source": [
    "## 18. Inserting a new column\n",
    "\n",
    "아래와 같은 방식을 통해 데이터 프레임에 새로운 column을 추가할 수 있습니다."
   ]
  },
  {
   "cell_type": "code",
   "execution_count": 35,
   "id": "070d69e7",
   "metadata": {
    "scrolled": true
   },
   "outputs": [
    {
     "data": {
      "text/html": [
       "<div>\n",
       "<style scoped>\n",
       "    .dataframe tbody tr th:only-of-type {\n",
       "        vertical-align: middle;\n",
       "    }\n",
       "\n",
       "    .dataframe tbody tr th {\n",
       "        vertical-align: top;\n",
       "    }\n",
       "\n",
       "    .dataframe thead th {\n",
       "        text-align: right;\n",
       "    }\n",
       "</style>\n",
       "<table border=\"1\" class=\"dataframe\">\n",
       "  <thead>\n",
       "    <tr style=\"text-align: right;\">\n",
       "      <th></th>\n",
       "      <th>Geography</th>\n",
       "      <th>Exited</th>\n",
       "      <th>Balance</th>\n",
       "      <th>Group</th>\n",
       "    </tr>\n",
       "  </thead>\n",
       "  <tbody>\n",
       "    <tr>\n",
       "      <th>0</th>\n",
       "      <td>France</td>\n",
       "      <td>0.0</td>\n",
       "      <td>60327.697536</td>\n",
       "      <td>0</td>\n",
       "    </tr>\n",
       "    <tr>\n",
       "      <th>1</th>\n",
       "      <td>France</td>\n",
       "      <td>1.0</td>\n",
       "      <td>71280.796712</td>\n",
       "      <td>7</td>\n",
       "    </tr>\n",
       "    <tr>\n",
       "      <th>2</th>\n",
       "      <td>Germany</td>\n",
       "      <td>0.0</td>\n",
       "      <td>119400.366240</td>\n",
       "      <td>0</td>\n",
       "    </tr>\n",
       "    <tr>\n",
       "      <th>3</th>\n",
       "      <td>Germany</td>\n",
       "      <td>1.0</td>\n",
       "      <td>120362.884323</td>\n",
       "      <td>0</td>\n",
       "    </tr>\n",
       "    <tr>\n",
       "      <th>4</th>\n",
       "      <td>Spain</td>\n",
       "      <td>0.0</td>\n",
       "      <td>59645.271822</td>\n",
       "      <td>6</td>\n",
       "    </tr>\n",
       "    <tr>\n",
       "      <th>5</th>\n",
       "      <td>Spain</td>\n",
       "      <td>1.0</td>\n",
       "      <td>72399.672015</td>\n",
       "      <td>8</td>\n",
       "    </tr>\n",
       "  </tbody>\n",
       "</table>\n",
       "</div>"
      ],
      "text/plain": [
       "  Geography  Exited        Balance  Group\n",
       "0    France     0.0   60327.697536      0\n",
       "1    France     1.0   71280.796712      7\n",
       "2   Germany     0.0  119400.366240      0\n",
       "3   Germany     1.0  120362.884323      0\n",
       "4     Spain     0.0   59645.271822      6\n",
       "5     Spain     1.0   72399.672015      8"
      ]
     },
     "execution_count": 35,
     "metadata": {},
     "output_type": "execute_result"
    }
   ],
   "source": [
    "group = np.random.randint(10, size=6)\n",
    "df_new['Group'] = group\n",
    "df_new"
   ]
  },
  {
   "cell_type": "markdown",
   "id": "470e7095",
   "metadata": {},
   "source": [
    "위의 경우 `['Group']`이 마지막에 추가되는바, `insert` 함수를 통해 새로운 column이 삽입되는 위치를 지정할 수 있습니다.\n",
    "\n",
    "아래의 경우 첫번째 column으로 group을 삽입하고자 합니다."
   ]
  },
  {
   "cell_type": "code",
   "execution_count": 36,
   "id": "50e36335",
   "metadata": {},
   "outputs": [],
   "source": [
    "df_new = df_new.drop(['Group'], axis=1)"
   ]
  },
  {
   "cell_type": "code",
   "execution_count": 37,
   "id": "475e06ac",
   "metadata": {},
   "outputs": [
    {
     "data": {
      "text/html": [
       "<div>\n",
       "<style scoped>\n",
       "    .dataframe tbody tr th:only-of-type {\n",
       "        vertical-align: middle;\n",
       "    }\n",
       "\n",
       "    .dataframe tbody tr th {\n",
       "        vertical-align: top;\n",
       "    }\n",
       "\n",
       "    .dataframe thead th {\n",
       "        text-align: right;\n",
       "    }\n",
       "</style>\n",
       "<table border=\"1\" class=\"dataframe\">\n",
       "  <thead>\n",
       "    <tr style=\"text-align: right;\">\n",
       "      <th></th>\n",
       "      <th>Group</th>\n",
       "      <th>Geography</th>\n",
       "      <th>Exited</th>\n",
       "      <th>Balance</th>\n",
       "    </tr>\n",
       "  </thead>\n",
       "  <tbody>\n",
       "    <tr>\n",
       "      <th>0</th>\n",
       "      <td>0</td>\n",
       "      <td>France</td>\n",
       "      <td>0.0</td>\n",
       "      <td>60327.697536</td>\n",
       "    </tr>\n",
       "    <tr>\n",
       "      <th>1</th>\n",
       "      <td>7</td>\n",
       "      <td>France</td>\n",
       "      <td>1.0</td>\n",
       "      <td>71280.796712</td>\n",
       "    </tr>\n",
       "    <tr>\n",
       "      <th>2</th>\n",
       "      <td>0</td>\n",
       "      <td>Germany</td>\n",
       "      <td>0.0</td>\n",
       "      <td>119400.366240</td>\n",
       "    </tr>\n",
       "    <tr>\n",
       "      <th>3</th>\n",
       "      <td>0</td>\n",
       "      <td>Germany</td>\n",
       "      <td>1.0</td>\n",
       "      <td>120362.884323</td>\n",
       "    </tr>\n",
       "    <tr>\n",
       "      <th>4</th>\n",
       "      <td>6</td>\n",
       "      <td>Spain</td>\n",
       "      <td>0.0</td>\n",
       "      <td>59645.271822</td>\n",
       "    </tr>\n",
       "    <tr>\n",
       "      <th>5</th>\n",
       "      <td>8</td>\n",
       "      <td>Spain</td>\n",
       "      <td>1.0</td>\n",
       "      <td>72399.672015</td>\n",
       "    </tr>\n",
       "  </tbody>\n",
       "</table>\n",
       "</div>"
      ],
      "text/plain": [
       "   Group Geography  Exited        Balance\n",
       "0      0    France     0.0   60327.697536\n",
       "1      7    France     1.0   71280.796712\n",
       "2      0   Germany     0.0  119400.366240\n",
       "3      0   Germany     1.0  120362.884323\n",
       "4      6     Spain     0.0   59645.271822\n",
       "5      8     Spain     1.0   72399.672015"
      ]
     },
     "execution_count": 37,
     "metadata": {},
     "output_type": "execute_result"
    }
   ],
   "source": [
    "df_new.insert(0, 'Group', group)\n",
    "df_new"
   ]
  },
  {
   "cell_type": "markdown",
   "id": "713118c1",
   "metadata": {},
   "source": [
    "## 19. The where function\n",
    "\n",
    "`where` 함수를 통해 특정 조건에 맞는 column 값을 대체할 수 있습니다.\n",
    "\n",
    "아래의 경우 6보다 작은 그룹의 Balance 값을 0으로 대체하는 함수입니다.\n",
    "\n",
    "```python\n",
    "df.where(condition, True, False)\n",
    "```"
   ]
  },
  {
   "cell_type": "code",
   "execution_count": 38,
   "id": "83a483e7",
   "metadata": {
    "scrolled": true
   },
   "outputs": [
    {
     "data": {
      "text/html": [
       "<div>\n",
       "<style scoped>\n",
       "    .dataframe tbody tr th:only-of-type {\n",
       "        vertical-align: middle;\n",
       "    }\n",
       "\n",
       "    .dataframe tbody tr th {\n",
       "        vertical-align: top;\n",
       "    }\n",
       "\n",
       "    .dataframe thead th {\n",
       "        text-align: right;\n",
       "    }\n",
       "</style>\n",
       "<table border=\"1\" class=\"dataframe\">\n",
       "  <thead>\n",
       "    <tr style=\"text-align: right;\">\n",
       "      <th></th>\n",
       "      <th>Group</th>\n",
       "      <th>Geography</th>\n",
       "      <th>Exited</th>\n",
       "      <th>Balance</th>\n",
       "    </tr>\n",
       "  </thead>\n",
       "  <tbody>\n",
       "    <tr>\n",
       "      <th>0</th>\n",
       "      <td>0</td>\n",
       "      <td>France</td>\n",
       "      <td>0.0</td>\n",
       "      <td>0.000000</td>\n",
       "    </tr>\n",
       "    <tr>\n",
       "      <th>1</th>\n",
       "      <td>7</td>\n",
       "      <td>France</td>\n",
       "      <td>1.0</td>\n",
       "      <td>71280.796712</td>\n",
       "    </tr>\n",
       "    <tr>\n",
       "      <th>2</th>\n",
       "      <td>0</td>\n",
       "      <td>Germany</td>\n",
       "      <td>0.0</td>\n",
       "      <td>0.000000</td>\n",
       "    </tr>\n",
       "    <tr>\n",
       "      <th>3</th>\n",
       "      <td>0</td>\n",
       "      <td>Germany</td>\n",
       "      <td>1.0</td>\n",
       "      <td>0.000000</td>\n",
       "    </tr>\n",
       "    <tr>\n",
       "      <th>4</th>\n",
       "      <td>6</td>\n",
       "      <td>Spain</td>\n",
       "      <td>0.0</td>\n",
       "      <td>59645.271822</td>\n",
       "    </tr>\n",
       "    <tr>\n",
       "      <th>5</th>\n",
       "      <td>8</td>\n",
       "      <td>Spain</td>\n",
       "      <td>1.0</td>\n",
       "      <td>72399.672015</td>\n",
       "    </tr>\n",
       "  </tbody>\n",
       "</table>\n",
       "</div>"
      ],
      "text/plain": [
       "   Group Geography  Exited       Balance\n",
       "0      0    France     0.0      0.000000\n",
       "1      7    France     1.0  71280.796712\n",
       "2      0   Germany     0.0      0.000000\n",
       "3      0   Germany     1.0      0.000000\n",
       "4      6     Spain     0.0  59645.271822\n",
       "5      8     Spain     1.0  72399.672015"
      ]
     },
     "execution_count": 38,
     "metadata": {},
     "output_type": "execute_result"
    }
   ],
   "source": [
    "df_new['Balance'] = df_new['Balance'].where(df_new['Group'] >= 6, 0)\n",
    "df_new"
   ]
  },
  {
   "cell_type": "code",
   "execution_count": 39,
   "id": "5b2adfac",
   "metadata": {},
   "outputs": [
    {
     "data": {
      "text/html": [
       "<div>\n",
       "<style scoped>\n",
       "    .dataframe tbody tr th:only-of-type {\n",
       "        vertical-align: middle;\n",
       "    }\n",
       "\n",
       "    .dataframe tbody tr th {\n",
       "        vertical-align: top;\n",
       "    }\n",
       "\n",
       "    .dataframe thead th {\n",
       "        text-align: right;\n",
       "    }\n",
       "</style>\n",
       "<table border=\"1\" class=\"dataframe\">\n",
       "  <thead>\n",
       "    <tr style=\"text-align: right;\">\n",
       "      <th></th>\n",
       "      <th>Group</th>\n",
       "      <th>Geography</th>\n",
       "      <th>Exited</th>\n",
       "      <th>Balance</th>\n",
       "    </tr>\n",
       "  </thead>\n",
       "  <tbody>\n",
       "    <tr>\n",
       "      <th>0</th>\n",
       "      <td>0</td>\n",
       "      <td>France</td>\n",
       "      <td>0.0</td>\n",
       "      <td>0.0</td>\n",
       "    </tr>\n",
       "    <tr>\n",
       "      <th>2</th>\n",
       "      <td>0</td>\n",
       "      <td>Germany</td>\n",
       "      <td>0.0</td>\n",
       "      <td>0.0</td>\n",
       "    </tr>\n",
       "    <tr>\n",
       "      <th>3</th>\n",
       "      <td>0</td>\n",
       "      <td>Germany</td>\n",
       "      <td>1.0</td>\n",
       "      <td>0.0</td>\n",
       "    </tr>\n",
       "  </tbody>\n",
       "</table>\n",
       "</div>"
      ],
      "text/plain": [
       "   Group Geography  Exited  Balance\n",
       "0      0    France     0.0      0.0\n",
       "2      0   Germany     0.0      0.0\n",
       "3      0   Germany     1.0      0.0"
      ]
     },
     "execution_count": 39,
     "metadata": {},
     "output_type": "execute_result"
    }
   ],
   "source": [
    "df_new.query('Balance < 6')"
   ]
  },
  {
   "cell_type": "markdown",
   "id": "7e10ecd6",
   "metadata": {},
   "source": [
    "## 20. The rank function\n",
    "\n",
    "`rank`함수는 각각의 값에 rank를 assign 합니다."
   ]
  },
  {
   "cell_type": "code",
   "execution_count": 40,
   "id": "3b44e525",
   "metadata": {},
   "outputs": [
    {
     "data": {
      "text/html": [
       "<div>\n",
       "<style scoped>\n",
       "    .dataframe tbody tr th:only-of-type {\n",
       "        vertical-align: middle;\n",
       "    }\n",
       "\n",
       "    .dataframe tbody tr th {\n",
       "        vertical-align: top;\n",
       "    }\n",
       "\n",
       "    .dataframe thead th {\n",
       "        text-align: right;\n",
       "    }\n",
       "</style>\n",
       "<table border=\"1\" class=\"dataframe\">\n",
       "  <thead>\n",
       "    <tr style=\"text-align: right;\">\n",
       "      <th></th>\n",
       "      <th>Group</th>\n",
       "      <th>Geography</th>\n",
       "      <th>Exited</th>\n",
       "      <th>Balance</th>\n",
       "      <th>rank</th>\n",
       "    </tr>\n",
       "  </thead>\n",
       "  <tbody>\n",
       "    <tr>\n",
       "      <th>0</th>\n",
       "      <td>0</td>\n",
       "      <td>France</td>\n",
       "      <td>0.0</td>\n",
       "      <td>0.000000</td>\n",
       "      <td>4</td>\n",
       "    </tr>\n",
       "    <tr>\n",
       "      <th>1</th>\n",
       "      <td>7</td>\n",
       "      <td>France</td>\n",
       "      <td>1.0</td>\n",
       "      <td>71280.796712</td>\n",
       "      <td>2</td>\n",
       "    </tr>\n",
       "    <tr>\n",
       "      <th>2</th>\n",
       "      <td>0</td>\n",
       "      <td>Germany</td>\n",
       "      <td>0.0</td>\n",
       "      <td>0.000000</td>\n",
       "      <td>5</td>\n",
       "    </tr>\n",
       "    <tr>\n",
       "      <th>3</th>\n",
       "      <td>0</td>\n",
       "      <td>Germany</td>\n",
       "      <td>1.0</td>\n",
       "      <td>0.000000</td>\n",
       "      <td>6</td>\n",
       "    </tr>\n",
       "    <tr>\n",
       "      <th>4</th>\n",
       "      <td>6</td>\n",
       "      <td>Spain</td>\n",
       "      <td>0.0</td>\n",
       "      <td>59645.271822</td>\n",
       "      <td>3</td>\n",
       "    </tr>\n",
       "    <tr>\n",
       "      <th>5</th>\n",
       "      <td>8</td>\n",
       "      <td>Spain</td>\n",
       "      <td>1.0</td>\n",
       "      <td>72399.672015</td>\n",
       "      <td>1</td>\n",
       "    </tr>\n",
       "  </tbody>\n",
       "</table>\n",
       "</div>"
      ],
      "text/plain": [
       "   Group Geography  Exited       Balance  rank\n",
       "0      0    France     0.0      0.000000     4\n",
       "1      7    France     1.0  71280.796712     2\n",
       "2      0   Germany     0.0      0.000000     5\n",
       "3      0   Germany     1.0      0.000000     6\n",
       "4      6     Spain     0.0  59645.271822     3\n",
       "5      8     Spain     1.0  72399.672015     1"
      ]
     },
     "execution_count": 40,
     "metadata": {},
     "output_type": "execute_result"
    }
   ],
   "source": [
    "df_new['rank'] = df_new['Balance'].rank(method='first', ascending=False).astype('int')\n",
    "df_new"
   ]
  },
  {
   "cell_type": "markdown",
   "id": "fb021463",
   "metadata": {},
   "source": [
    "## 21. Number of unique values in a column\n",
    "\n",
    "`nunique` 함수를 통해 column에 존재하는 유일한 값의 개수를 반환받을 수 있습니다."
   ]
  },
  {
   "cell_type": "code",
   "execution_count": 41,
   "id": "3ef66f4f",
   "metadata": {},
   "outputs": [
    {
     "data": {
      "text/plain": [
       "array(['France', 'Spain', 'Germany'], dtype=object)"
      ]
     },
     "execution_count": 41,
     "metadata": {},
     "output_type": "execute_result"
    }
   ],
   "source": [
    "df.Geography.unique()"
   ]
  },
  {
   "cell_type": "code",
   "execution_count": 42,
   "id": "efd3b723",
   "metadata": {},
   "outputs": [
    {
     "data": {
      "text/plain": [
       "3"
      ]
     },
     "execution_count": 42,
     "metadata": {},
     "output_type": "execute_result"
    }
   ],
   "source": [
    "df.Geography.nunique()"
   ]
  },
  {
   "cell_type": "markdown",
   "id": "481d74ce",
   "metadata": {},
   "source": [
    "## 22. Memory Usage\n",
    "\n",
    "`memory_usage` 함수를 통해 메모리 사용량을 반환받습니다."
   ]
  },
  {
   "cell_type": "code",
   "execution_count": 43,
   "id": "c81ebe28",
   "metadata": {},
   "outputs": [
    {
     "data": {
      "text/plain": [
       "Index              79840\n",
       "Geography          79840\n",
       "Gender             79840\n",
       "Age                79840\n",
       "Tenure             79840\n",
       "Balance            79840\n",
       "NumOfProducts      79840\n",
       "HasCrCard          79840\n",
       "IsActiveMember     79840\n",
       "EstimatedSalary    79840\n",
       "Exited             79840\n",
       "dtype: int64"
      ]
     },
     "execution_count": 43,
     "metadata": {},
     "output_type": "execute_result"
    }
   ],
   "source": [
    "df.memory_usage()"
   ]
  },
  {
   "cell_type": "markdown",
   "id": "8d8b0ab3",
   "metadata": {},
   "source": [
    "## 23. The category data type\n",
    "\n",
    "`astype` 함수를 통해 column 값의 data type을 변환할 수 있습니다.\n",
    "\n",
    "Object type의 데이터를 category type의 데이터로 변환할 경우 메모리 사용량이 줄어듭니다.\n",
    "머신러닝 및 딥러닝 학습 시에 메모리 사용량을 줄이고 싶다면 data type을 변환시킬 수 있을 것입니다."
   ]
  },
  {
   "cell_type": "code",
   "execution_count": 44,
   "id": "e2a402c4",
   "metadata": {},
   "outputs": [
    {
     "data": {
      "text/plain": [
       "Index              79840\n",
       "Geography          10112\n",
       "Gender             79840\n",
       "Age                79840\n",
       "Tenure             79840\n",
       "Balance            79840\n",
       "NumOfProducts      79840\n",
       "HasCrCard          79840\n",
       "IsActiveMember     79840\n",
       "EstimatedSalary    79840\n",
       "Exited             79840\n",
       "dtype: int64"
      ]
     },
     "execution_count": 44,
     "metadata": {},
     "output_type": "execute_result"
    }
   ],
   "source": [
    "df['Geography'] = df['Geography'].astype('category')\n",
    "df.memory_usage()"
   ]
  },
  {
   "cell_type": "markdown",
   "id": "37c6f9d3",
   "metadata": {},
   "source": [
    "## 24. Replacing values\n",
    "\n",
    "`replace` 함수를 통해 값을 대체합니다."
   ]
  },
  {
   "cell_type": "code",
   "execution_count": 45,
   "id": "3f833677",
   "metadata": {},
   "outputs": [
    {
     "data": {
      "text/plain": [
       "0    0\n",
       "1    7\n",
       "2    0\n",
       "3    0\n",
       "4    6\n",
       "5    8\n",
       "Name: Group, dtype: int64"
      ]
     },
     "execution_count": 45,
     "metadata": {},
     "output_type": "execute_result"
    }
   ],
   "source": [
    "df_new['Group'].replace(3, 'B1')"
   ]
  },
  {
   "cell_type": "markdown",
   "id": "9da03721",
   "metadata": {},
   "source": [
    "## 25. Drawing a histogram\n",
    "\n",
    "pandas는 데이터 시각화 라이브러리는 아니지만 기초적인 plot을 그릴 수 있는 툴은 제공해줍니다. 때로는 pandas를 통해 기초적인 시각화를 하는 것이 다른 라이브러리를 사용하는 것보다 간편합니다."
   ]
  },
  {
   "cell_type": "code",
   "execution_count": 46,
   "id": "8f95b91d",
   "metadata": {},
   "outputs": [
    {
     "data": {
      "text/plain": [
       "<AxesSubplot:title={'center':'Customer Balance'}, ylabel='Frequency'>"
      ]
     },
     "execution_count": 46,
     "metadata": {},
     "output_type": "execute_result"
    },
    {
     "data": {
      "image/png": "[encoded data removed]",
      "text/plain": [
       "<Figure size 720x432 with 1 Axes>"
      ]
     },
     "metadata": {
      "needs_background": "light"
     },
     "output_type": "display_data"
    }
   ],
   "source": [
    "df['Balance'].plot(kind='hist', figsize=(10,6), title='Customer Balance')"
   ]
  },
  {
   "cell_type": "markdown",
   "id": "23fb9a5d",
   "metadata": {},
   "source": [
    "## 26. Reducing the decimal points of floats\n",
    "\n",
    "`round` 함수를 통해 보여줄 소숫점 자리수를 정할 수 있습니다."
   ]
  },
  {
   "cell_type": "code",
   "execution_count": 47,
   "id": "368fd1f3",
   "metadata": {},
   "outputs": [
    {
     "data": {
      "text/html": [
       "<div>\n",
       "<style scoped>\n",
       "    .dataframe tbody tr th:only-of-type {\n",
       "        vertical-align: middle;\n",
       "    }\n",
       "\n",
       "    .dataframe tbody tr th {\n",
       "        vertical-align: top;\n",
       "    }\n",
       "\n",
       "    .dataframe thead th {\n",
       "        text-align: right;\n",
       "    }\n",
       "</style>\n",
       "<table border=\"1\" class=\"dataframe\">\n",
       "  <thead>\n",
       "    <tr style=\"text-align: right;\">\n",
       "      <th></th>\n",
       "      <th>Group</th>\n",
       "      <th>Geography</th>\n",
       "      <th>Exited</th>\n",
       "      <th>Balance</th>\n",
       "      <th>rank</th>\n",
       "    </tr>\n",
       "  </thead>\n",
       "  <tbody>\n",
       "    <tr>\n",
       "      <th>0</th>\n",
       "      <td>0</td>\n",
       "      <td>France</td>\n",
       "      <td>0.0</td>\n",
       "      <td>0.0</td>\n",
       "      <td>4</td>\n",
       "    </tr>\n",
       "    <tr>\n",
       "      <th>1</th>\n",
       "      <td>7</td>\n",
       "      <td>France</td>\n",
       "      <td>1.0</td>\n",
       "      <td>71280.8</td>\n",
       "      <td>2</td>\n",
       "    </tr>\n",
       "    <tr>\n",
       "      <th>2</th>\n",
       "      <td>0</td>\n",
       "      <td>Germany</td>\n",
       "      <td>0.0</td>\n",
       "      <td>0.0</td>\n",
       "      <td>5</td>\n",
       "    </tr>\n",
       "    <tr>\n",
       "      <th>3</th>\n",
       "      <td>0</td>\n",
       "      <td>Germany</td>\n",
       "      <td>1.0</td>\n",
       "      <td>0.0</td>\n",
       "      <td>6</td>\n",
       "    </tr>\n",
       "    <tr>\n",
       "      <th>4</th>\n",
       "      <td>6</td>\n",
       "      <td>Spain</td>\n",
       "      <td>0.0</td>\n",
       "      <td>59645.3</td>\n",
       "      <td>3</td>\n",
       "    </tr>\n",
       "    <tr>\n",
       "      <th>5</th>\n",
       "      <td>8</td>\n",
       "      <td>Spain</td>\n",
       "      <td>1.0</td>\n",
       "      <td>72399.7</td>\n",
       "      <td>1</td>\n",
       "    </tr>\n",
       "  </tbody>\n",
       "</table>\n",
       "</div>"
      ],
      "text/plain": [
       "   Group Geography  Exited  Balance  rank\n",
       "0      0    France     0.0      0.0     4\n",
       "1      7    France     1.0  71280.8     2\n",
       "2      0   Germany     0.0      0.0     5\n",
       "3      0   Germany     1.0      0.0     6\n",
       "4      6     Spain     0.0  59645.3     3\n",
       "5      8     Spain     1.0  72399.7     1"
      ]
     },
     "execution_count": 47,
     "metadata": {},
     "output_type": "execute_result"
    }
   ],
   "source": [
    "df_new.round(1) #number of desired decimal points"
   ]
  },
  {
   "cell_type": "markdown",
   "id": "055132f9",
   "metadata": {},
   "source": [
    "## 27. Changing the display options\n",
    "\n",
    "- get_option : 현재 옵션이 무엇인지 반환합니다.\n",
    "- set_option : 현재의 옵션을 변경합니다."
   ]
  },
  {
   "cell_type": "code",
   "execution_count": 48,
   "id": "1b6dc6f4",
   "metadata": {},
   "outputs": [
    {
     "data": {
      "text/plain": [
       "6"
      ]
     },
     "execution_count": 48,
     "metadata": {},
     "output_type": "execute_result"
    }
   ],
   "source": [
    "pd.get_option(\"display.precision\")"
   ]
  },
  {
   "cell_type": "code",
   "execution_count": 49,
   "id": "3a79938a",
   "metadata": {},
   "outputs": [],
   "source": [
    "pd.set_option(\"display.precision\",2)"
   ]
  },
  {
   "cell_type": "code",
   "execution_count": 50,
   "id": "e220fdb5",
   "metadata": {
    "scrolled": true
   },
   "outputs": [
    {
     "data": {
      "text/html": [
       "<div>\n",
       "<style scoped>\n",
       "    .dataframe tbody tr th:only-of-type {\n",
       "        vertical-align: middle;\n",
       "    }\n",
       "\n",
       "    .dataframe tbody tr th {\n",
       "        vertical-align: top;\n",
       "    }\n",
       "\n",
       "    .dataframe thead th {\n",
       "        text-align: right;\n",
       "    }\n",
       "</style>\n",
       "<table border=\"1\" class=\"dataframe\">\n",
       "  <thead>\n",
       "    <tr style=\"text-align: right;\">\n",
       "      <th></th>\n",
       "      <th>Group</th>\n",
       "      <th>Geography</th>\n",
       "      <th>Exited</th>\n",
       "      <th>Balance</th>\n",
       "      <th>rank</th>\n",
       "    </tr>\n",
       "  </thead>\n",
       "  <tbody>\n",
       "    <tr>\n",
       "      <th>0</th>\n",
       "      <td>0</td>\n",
       "      <td>France</td>\n",
       "      <td>0.0</td>\n",
       "      <td>0.00</td>\n",
       "      <td>4</td>\n",
       "    </tr>\n",
       "    <tr>\n",
       "      <th>1</th>\n",
       "      <td>7</td>\n",
       "      <td>France</td>\n",
       "      <td>1.0</td>\n",
       "      <td>71280.80</td>\n",
       "      <td>2</td>\n",
       "    </tr>\n",
       "    <tr>\n",
       "      <th>2</th>\n",
       "      <td>0</td>\n",
       "      <td>Germany</td>\n",
       "      <td>0.0</td>\n",
       "      <td>0.00</td>\n",
       "      <td>5</td>\n",
       "    </tr>\n",
       "    <tr>\n",
       "      <th>3</th>\n",
       "      <td>0</td>\n",
       "      <td>Germany</td>\n",
       "      <td>1.0</td>\n",
       "      <td>0.00</td>\n",
       "      <td>6</td>\n",
       "    </tr>\n",
       "    <tr>\n",
       "      <th>4</th>\n",
       "      <td>6</td>\n",
       "      <td>Spain</td>\n",
       "      <td>0.0</td>\n",
       "      <td>59645.27</td>\n",
       "      <td>3</td>\n",
       "    </tr>\n",
       "    <tr>\n",
       "      <th>5</th>\n",
       "      <td>8</td>\n",
       "      <td>Spain</td>\n",
       "      <td>1.0</td>\n",
       "      <td>72399.67</td>\n",
       "      <td>1</td>\n",
       "    </tr>\n",
       "  </tbody>\n",
       "</table>\n",
       "</div>"
      ],
      "text/plain": [
       "   Group Geography  Exited   Balance  rank\n",
       "0      0    France     0.0      0.00     4\n",
       "1      7    France     1.0  71280.80     2\n",
       "2      0   Germany     0.0      0.00     5\n",
       "3      0   Germany     1.0      0.00     6\n",
       "4      6     Spain     0.0  59645.27     3\n",
       "5      8     Spain     1.0  72399.67     1"
      ]
     },
     "execution_count": 50,
     "metadata": {},
     "output_type": "execute_result"
    }
   ],
   "source": [
    "df_new"
   ]
  },
  {
   "cell_type": "markdown",
   "id": "2a6cd0ac",
   "metadata": {},
   "source": [
    "## 28. Calculating the percentage change through a column\n",
    "\n",
    "`pct_change` 함수를 통해 각각의 series의 percentage change rate를 반환받을 수 있습니다."
   ]
  },
  {
   "cell_type": "code",
   "execution_count": 51,
   "id": "9ce85ff6",
   "metadata": {},
   "outputs": [
    {
     "data": {
      "text/plain": [
       "0     NaN\n",
       "1    0.25\n",
       "2   -0.60\n",
       "3    1.50\n",
       "4    0.20\n",
       "5    0.67\n",
       "6    0.20\n",
       "dtype: float64"
      ]
     },
     "execution_count": 51,
     "metadata": {},
     "output_type": "execute_result"
    }
   ],
   "source": [
    "ser = pd.Series([4,5,2,5,6,10,12])\n",
    "ser.pct_change()"
   ]
  },
  {
   "cell_type": "markdown",
   "id": "84a75e68",
   "metadata": {},
   "source": [
    "## 29. Filtering based on strings\n",
    "\n",
    "string에 따라 조건을 줄 수 있습니다."
   ]
  },
  {
   "cell_type": "code",
   "execution_count": 52,
   "id": "62dffd02",
   "metadata": {},
   "outputs": [
    {
     "data": {
      "text/html": [
       "<div>\n",
       "<style scoped>\n",
       "    .dataframe tbody tr th:only-of-type {\n",
       "        vertical-align: middle;\n",
       "    }\n",
       "\n",
       "    .dataframe tbody tr th {\n",
       "        vertical-align: top;\n",
       "    }\n",
       "\n",
       "    .dataframe thead th {\n",
       "        text-align: right;\n",
       "    }\n",
       "</style>\n",
       "<table border=\"1\" class=\"dataframe\">\n",
       "  <thead>\n",
       "    <tr style=\"text-align: right;\">\n",
       "      <th></th>\n",
       "      <th>Group</th>\n",
       "      <th>Geography</th>\n",
       "      <th>Exited</th>\n",
       "      <th>Balance</th>\n",
       "      <th>rank</th>\n",
       "      <th>Names</th>\n",
       "    </tr>\n",
       "  </thead>\n",
       "  <tbody>\n",
       "    <tr>\n",
       "      <th>0</th>\n",
       "      <td>0</td>\n",
       "      <td>France</td>\n",
       "      <td>0.0</td>\n",
       "      <td>0.00</td>\n",
       "      <td>4</td>\n",
       "      <td>jack</td>\n",
       "    </tr>\n",
       "    <tr>\n",
       "      <th>1</th>\n",
       "      <td>7</td>\n",
       "      <td>France</td>\n",
       "      <td>1.0</td>\n",
       "      <td>71280.80</td>\n",
       "      <td>2</td>\n",
       "      <td>julia</td>\n",
       "    </tr>\n",
       "    <tr>\n",
       "      <th>2</th>\n",
       "      <td>0</td>\n",
       "      <td>Germany</td>\n",
       "      <td>0.0</td>\n",
       "      <td>0.00</td>\n",
       "      <td>5</td>\n",
       "      <td>mike</td>\n",
       "    </tr>\n",
       "    <tr>\n",
       "      <th>3</th>\n",
       "      <td>0</td>\n",
       "      <td>Germany</td>\n",
       "      <td>1.0</td>\n",
       "      <td>0.00</td>\n",
       "      <td>6</td>\n",
       "      <td>michael</td>\n",
       "    </tr>\n",
       "    <tr>\n",
       "      <th>4</th>\n",
       "      <td>6</td>\n",
       "      <td>Spain</td>\n",
       "      <td>0.0</td>\n",
       "      <td>59645.27</td>\n",
       "      <td>3</td>\n",
       "      <td>tim</td>\n",
       "    </tr>\n",
       "    <tr>\n",
       "      <th>5</th>\n",
       "      <td>8</td>\n",
       "      <td>Spain</td>\n",
       "      <td>1.0</td>\n",
       "      <td>72399.67</td>\n",
       "      <td>1</td>\n",
       "      <td>amber</td>\n",
       "    </tr>\n",
       "  </tbody>\n",
       "</table>\n",
       "</div>"
      ],
      "text/plain": [
       "   Group Geography  Exited   Balance  rank    Names\n",
       "0      0    France     0.0      0.00     4     jack\n",
       "1      7    France     1.0  71280.80     2    julia\n",
       "2      0   Germany     0.0      0.00     5     mike\n",
       "3      0   Germany     1.0      0.00     6  michael\n",
       "4      6     Spain     0.0  59645.27     3      tim\n",
       "5      8     Spain     1.0  72399.67     1    amber"
      ]
     },
     "execution_count": 52,
     "metadata": {},
     "output_type": "execute_result"
    }
   ],
   "source": [
    "df_new['Names'] = ['jack', 'julia', 'mike', 'michael', 'tim', 'amber']\n",
    "df_new"
   ]
  },
  {
   "cell_type": "code",
   "execution_count": 53,
   "id": "49771d20",
   "metadata": {},
   "outputs": [
    {
     "data": {
      "text/html": [
       "<div>\n",
       "<style scoped>\n",
       "    .dataframe tbody tr th:only-of-type {\n",
       "        vertical-align: middle;\n",
       "    }\n",
       "\n",
       "    .dataframe tbody tr th {\n",
       "        vertical-align: top;\n",
       "    }\n",
       "\n",
       "    .dataframe thead th {\n",
       "        text-align: right;\n",
       "    }\n",
       "</style>\n",
       "<table border=\"1\" class=\"dataframe\">\n",
       "  <thead>\n",
       "    <tr style=\"text-align: right;\">\n",
       "      <th></th>\n",
       "      <th>Group</th>\n",
       "      <th>Geography</th>\n",
       "      <th>Exited</th>\n",
       "      <th>Balance</th>\n",
       "      <th>rank</th>\n",
       "      <th>Names</th>\n",
       "    </tr>\n",
       "  </thead>\n",
       "  <tbody>\n",
       "    <tr>\n",
       "      <th>2</th>\n",
       "      <td>0</td>\n",
       "      <td>Germany</td>\n",
       "      <td>0.0</td>\n",
       "      <td>0.0</td>\n",
       "      <td>5</td>\n",
       "      <td>mike</td>\n",
       "    </tr>\n",
       "    <tr>\n",
       "      <th>3</th>\n",
       "      <td>0</td>\n",
       "      <td>Germany</td>\n",
       "      <td>1.0</td>\n",
       "      <td>0.0</td>\n",
       "      <td>6</td>\n",
       "      <td>michael</td>\n",
       "    </tr>\n",
       "  </tbody>\n",
       "</table>\n",
       "</div>"
      ],
      "text/plain": [
       "   Group Geography  Exited  Balance  rank    Names\n",
       "2      0   Germany     0.0      0.0     5     mike\n",
       "3      0   Germany     1.0      0.0     6  michael"
      ]
     },
     "execution_count": 53,
     "metadata": {},
     "output_type": "execute_result"
    }
   ],
   "source": [
    "df_new[df_new.Names.str.startswith('mi')]"
   ]
  },
  {
   "cell_type": "markdown",
   "id": "4618c35b",
   "metadata": {},
   "source": [
    "## 30. Styling a dataframe\n",
    "\n",
    "`Style`과 `Styler`를 통해 Display Setting을 변경할 수 있습니다."
   ]
  },
  {
   "cell_type": "code",
   "execution_count": 54,
   "id": "e49f796f",
   "metadata": {},
   "outputs": [
    {
     "data": {
      "text/html": [
       "<style type=\"text/css\">\n",
       "#T_30548_row1_col2, #T_30548_row3_col2, #T_30548_row3_col4, #T_30548_row4_col1, #T_30548_row4_col5, #T_30548_row5_col0, #T_30548_row5_col1, #T_30548_row5_col2, #T_30548_row5_col3 {\n",
       "  background-color: darkgreen;\n",
       "}\n",
       "</style>\n",
       "<table id=\"T_30548_\">\n",
       "  <thead>\n",
       "    <tr>\n",
       "      <th class=\"blank level0\" >&nbsp;</th>\n",
       "      <th class=\"col_heading level0 col0\" >Group</th>\n",
       "      <th class=\"col_heading level0 col1\" >Geography</th>\n",
       "      <th class=\"col_heading level0 col2\" >Exited</th>\n",
       "      <th class=\"col_heading level0 col3\" >Balance</th>\n",
       "      <th class=\"col_heading level0 col4\" >rank</th>\n",
       "      <th class=\"col_heading level0 col5\" >Names</th>\n",
       "    </tr>\n",
       "  </thead>\n",
       "  <tbody>\n",
       "    <tr>\n",
       "      <th id=\"T_30548_level0_row0\" class=\"row_heading level0 row0\" >0</th>\n",
       "      <td id=\"T_30548_row0_col0\" class=\"data row0 col0\" >0</td>\n",
       "      <td id=\"T_30548_row0_col1\" class=\"data row0 col1\" >France</td>\n",
       "      <td id=\"T_30548_row0_col2\" class=\"data row0 col2\" >0.00</td>\n",
       "      <td id=\"T_30548_row0_col3\" class=\"data row0 col3\" >0.00</td>\n",
       "      <td id=\"T_30548_row0_col4\" class=\"data row0 col4\" >4</td>\n",
       "      <td id=\"T_30548_row0_col5\" class=\"data row0 col5\" >jack</td>\n",
       "    </tr>\n",
       "    <tr>\n",
       "      <th id=\"T_30548_level0_row1\" class=\"row_heading level0 row1\" >1</th>\n",
       "      <td id=\"T_30548_row1_col0\" class=\"data row1 col0\" >7</td>\n",
       "      <td id=\"T_30548_row1_col1\" class=\"data row1 col1\" >France</td>\n",
       "      <td id=\"T_30548_row1_col2\" class=\"data row1 col2\" >1.00</td>\n",
       "      <td id=\"T_30548_row1_col3\" class=\"data row1 col3\" >71280.80</td>\n",
       "      <td id=\"T_30548_row1_col4\" class=\"data row1 col4\" >2</td>\n",
       "      <td id=\"T_30548_row1_col5\" class=\"data row1 col5\" >julia</td>\n",
       "    </tr>\n",
       "    <tr>\n",
       "      <th id=\"T_30548_level0_row2\" class=\"row_heading level0 row2\" >2</th>\n",
       "      <td id=\"T_30548_row2_col0\" class=\"data row2 col0\" >0</td>\n",
       "      <td id=\"T_30548_row2_col1\" class=\"data row2 col1\" >Germany</td>\n",
       "      <td id=\"T_30548_row2_col2\" class=\"data row2 col2\" >0.00</td>\n",
       "      <td id=\"T_30548_row2_col3\" class=\"data row2 col3\" >0.00</td>\n",
       "      <td id=\"T_30548_row2_col4\" class=\"data row2 col4\" >5</td>\n",
       "      <td id=\"T_30548_row2_col5\" class=\"data row2 col5\" >mike</td>\n",
       "    </tr>\n",
       "    <tr>\n",
       "      <th id=\"T_30548_level0_row3\" class=\"row_heading level0 row3\" >3</th>\n",
       "      <td id=\"T_30548_row3_col0\" class=\"data row3 col0\" >0</td>\n",
       "      <td id=\"T_30548_row3_col1\" class=\"data row3 col1\" >Germany</td>\n",
       "      <td id=\"T_30548_row3_col2\" class=\"data row3 col2\" >1.00</td>\n",
       "      <td id=\"T_30548_row3_col3\" class=\"data row3 col3\" >0.00</td>\n",
       "      <td id=\"T_30548_row3_col4\" class=\"data row3 col4\" >6</td>\n",
       "      <td id=\"T_30548_row3_col5\" class=\"data row3 col5\" >michael</td>\n",
       "    </tr>\n",
       "    <tr>\n",
       "      <th id=\"T_30548_level0_row4\" class=\"row_heading level0 row4\" >4</th>\n",
       "      <td id=\"T_30548_row4_col0\" class=\"data row4 col0\" >6</td>\n",
       "      <td id=\"T_30548_row4_col1\" class=\"data row4 col1\" >Spain</td>\n",
       "      <td id=\"T_30548_row4_col2\" class=\"data row4 col2\" >0.00</td>\n",
       "      <td id=\"T_30548_row4_col3\" class=\"data row4 col3\" >59645.27</td>\n",
       "      <td id=\"T_30548_row4_col4\" class=\"data row4 col4\" >3</td>\n",
       "      <td id=\"T_30548_row4_col5\" class=\"data row4 col5\" >tim</td>\n",
       "    </tr>\n",
       "    <tr>\n",
       "      <th id=\"T_30548_level0_row5\" class=\"row_heading level0 row5\" >5</th>\n",
       "      <td id=\"T_30548_row5_col0\" class=\"data row5 col0\" >8</td>\n",
       "      <td id=\"T_30548_row5_col1\" class=\"data row5 col1\" >Spain</td>\n",
       "      <td id=\"T_30548_row5_col2\" class=\"data row5 col2\" >1.00</td>\n",
       "      <td id=\"T_30548_row5_col3\" class=\"data row5 col3\" >72399.67</td>\n",
       "      <td id=\"T_30548_row5_col4\" class=\"data row5 col4\" >1</td>\n",
       "      <td id=\"T_30548_row5_col5\" class=\"data row5 col5\" >amber</td>\n",
       "    </tr>\n",
       "  </tbody>\n",
       "</table>\n"
      ],
      "text/plain": [
       "<pandas.io.formats.style.Styler at 0x7f9ae4535850>"
      ]
     },
     "execution_count": 54,
     "metadata": {},
     "output_type": "execute_result"
    }
   ],
   "source": [
    "df_new.style.highlight_max(axis=0, color='darkgreen')"
   ]
  },
  {
   "cell_type": "markdown",
   "id": "c62609ca",
   "metadata": {},
   "source": [
    "## Conclusion\n",
    "\n",
    "We have covered a great deal of the functions and methods for data analysis. There are, of course, a lot more offered by pandas but it is impossible to cover all in one article.\n",
    "\n",
    "As you keep using pandas for your data analysis tasks, you may discover new functions and methods. As with any other subject, practice makes perfect.\n",
    "\n",
    "I’d like to share two other posts that kind of cover different operations than the ones in this post."
   ]
  }
 ],
 "metadata": {
  "kernelspec": {
   "display_name": "Python 3 (ipykernel)",
   "language": "python",
   "name": "python3"
  },
  "language_info": {
   "codemirror_mode": {
    "name": "ipython",
    "version": 3
   },
   "file_extension": ".py",
   "mimetype": "text/x-python",
   "name": "python",
   "nbconvert_exporter": "python",
   "pygments_lexer": "ipython3",
   "version": "3.9.7"
  }
 },
 "nbformat": 4,
 "nbformat_minor": 5
}
